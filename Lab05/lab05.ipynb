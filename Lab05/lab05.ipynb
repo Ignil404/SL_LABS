{
 "cells": [
  {
   "cell_type": "markdown",
   "metadata": {},
   "source": [
    "# Лабораторная работа по Python\n",
    "## Базовые типы данных и управляющие конструкции\n",
    "\n",
    "**Цель работы:** Изучить основные типы данных в Python и управляющие конструкции.\n",
    "\n",
    "**Студент:** ________________  \n",
    "**Дата:** ________________\n",
    "\n",
    "## Содержание\n",
    "1. [Базовые типы данных (числа)](#1)\n",
    "2. [Базовые типы данных (строки)](#2)\n",
    "3. [Базовые типы данных (массивы)](#3)\n",
    "4. [Базовые типы данных (кортежи)](#4)\n",
    "5. [Базовые типы данных (словари)](#5)\n",
    "6. [Базовые типы данных (множества)](#6)\n",
    "7. [Условные операторы](#7)\n",
    "8. [Циклы](#8)\n",
    "9. [Comprehensions](#9)"
   ]
  },
  {
   "cell_type": "markdown",
   "metadata": {},
   "source": [
    "<a id=\"1\"></a>\n",
    "## 1. Базовые типы данных (числа)"
   ]
  },
  {
   "cell_type": "code",
   "execution_count": null,
   "metadata": {},
   "outputs": [],
   "source": []
  },
  {
   "cell_type": "markdown",
   "metadata": {},
   "source": [
    "### 1.1 Целые числа (int)\n",
    "\n",
    "**Целые числа** - числа без дробной части. Могут быть положительными или отрицательными."
   ]
  },
  {
   "cell_type": "code",
   "execution_count": 1,
   "metadata": {},
   "outputs": [
    {
     "name": "stdout",
     "output_type": "stream",
     "text": [
      "a = 10, тип: <class 'int'>\n",
      "b = -5, тип: <class 'int'>\n",
      "c = 0, тип: <class 'int'>\n"
     ]
    }
   ],
   "source": [
    "# Создание целых чисел\n",
    "a = 10\n",
    "b = -5\n",
    "c = 0\n",
    "\n",
    "print(f\"a = {a}, тип: {type(a)}\")\n",
    "print(f\"b = {b}, тип: {type(b)}\")\n",
    "print(f\"c = {c}, тип: {type(c)}\")"
   ]
  },
  {
   "cell_type": "markdown",
   "metadata": {},
   "source": [
    "### 1.2 Вещественные числа (float)\n",
    "\n",
    "**Вещественные числа** - числа с плавающей точкой. Используются для представления дробных значений."
   ]
  },
  {
   "cell_type": "markdown",
   "metadata": {},
   "source": []
  },
  {
   "cell_type": "code",
   "execution_count": 3,
   "metadata": {},
   "outputs": [
    {
     "name": "stdout",
     "output_type": "stream",
     "text": [
      "d = 3.14, тип: <class 'float'>\n",
      "e = -2.5, тип: <class 'float'>\n",
      "f = 0.001, тип: <class 'float'>\n"
     ]
    }
   ],
   "source": [
    "# Создание вещественных чисел\n",
    "d = 3.14\n",
    "e = -2.5\n",
    "f = 1.0e-3  # Научная нотация: 0.001\n",
    "\n",
    "print(f\"d = {d}, тип: {type(d)}\")\n",
    "print(f\"e = {e}, тип: {type(e)}\")\n",
    "print(f\"f = {f}, тип: {type(f)}\")"
   ]
  },
  {
   "cell_type": "markdown",
   "metadata": {},
   "source": [
    "### 1.3 Арифметические операции\n",
    "\n",
    "| Операция | Описание | Пример |\n",
    "|----------|----------|---------|\n",
    "| `+` | Сложение | `5 + 3 = 8` |\n",
    "| `-` | Вычитание | `5 - 3 = 2` |\n",
    "| `*` | Умножение | `5 * 3 = 15` |\n",
    "| `/` | Деление | `5 / 2 = 2.5` |\n",
    "| `//` | Целочисленное деление | `5 // 2 = 2` |\n",
    "| `%` | Остаток от деления | `5 % 2 = 1` |\n",
    "| `**` | Возведение в степень | `5 ** 2 = 25` |"
   ]
  },
  {
   "cell_type": "code",
   "execution_count": 2,
   "metadata": {},
   "outputs": [
    {
     "name": "stdout",
     "output_type": "stream",
     "text": [
      "15 + 4 = 19\n",
      "15 - 4 = 11\n",
      "15 * 4 = 60\n",
      "15 / 4 = 3.75\n",
      "15 // 4 = 3\n",
      "15 % 4 = 3\n",
      "15 ** 4 = 50625\n"
     ]
    }
   ],
   "source": [
    "# Демонстрация арифметических операций\n",
    "x, y = 15, 4\n",
    "\n",
    "print(f\"{x} + {y} = {x + y}\")\n",
    "print(f\"{x} - {y} = {x - y}\")\n",
    "print(f\"{x} * {y} = {x * y}\")\n",
    "print(f\"{x} / {y} = {x / y}\")\n",
    "print(f\"{x} // {y} = {x // y}\")\n",
    "print(f\"{x} % {y} = {x % y}\")\n",
    "print(f\"{x} ** {y} = {x ** y}\")"
   ]
  },
  {
   "cell_type": "markdown",
   "metadata": {},
   "source": [
    "### 1.4 Математические функции\n",
    "\n",
    "В Python есть встроенные математические функции и модуль `math` для сложных операций."
   ]
  },
  {
   "cell_type": "code",
   "execution_count": 5,
   "metadata": {},
   "outputs": [
    {
     "name": "stdout",
     "output_type": "stream",
     "text": [
      "abs(-10) = 10\n",
      "round(3.14159, 2) = 3.14\n",
      "math.sqrt(16) = 4.0\n",
      "math.pow(2, 3) = 8.0\n",
      "math.floor(3.7) = 3\n",
      "math.ceil(3.2) = 4\n"
     ]
    }
   ],
   "source": [
    "# Использование математических функций\n",
    "import math\n",
    "\n",
    "num = -10\n",
    "value = 3.14159\n",
    "\n",
    "print(f\"abs({num}) = {abs(num)}\")\n",
    "print(f\"round({value}, 2) = {round(value, 2)}\")\n",
    "print(f\"math.sqrt(16) = {math.sqrt(16)}\")\n",
    "print(f\"math.pow(2, 3) = {math.pow(2, 3)}\")\n",
    "print(f\"math.floor(3.7) = {math.floor(3.7)}\")\n",
    "print(f\"math.ceil(3.2) = {math.ceil(3.2)}\")"
   ]
  },
  {
   "cell_type": "markdown",
   "metadata": {},
   "source": [
    "### Задачи для практики (числа)"
   ]
  },
  {
   "cell_type": "markdown",
   "metadata": {},
   "source": [
    "**Задача 1.1:** Вычислите площадь круга с радиусом 7. Используйте формулу S = πr²"
   ]
  },
  {
   "cell_type": "code",
   "execution_count": 3,
   "metadata": {},
   "outputs": [
    {
     "name": "stdout",
     "output_type": "stream",
     "text": [
      " S = 153.93804002589985\n"
     ]
    }
   ],
   "source": [
    "# Решение задачи 1.1\n",
    "import math\n",
    "print(f\" S = { math.pi * math.pow(7, 2)}\")"
   ]
  },
  {
   "cell_type": "markdown",
   "metadata": {},
   "source": [
    "**Задача 1.2:** Создайте программу для перевода температуры из градусов Цельсия в Фаренгейты"
   ]
  },
  {
   "cell_type": "code",
   "execution_count": 4,
   "metadata": {},
   "outputs": [
    {
     "name": "stdout",
     "output_type": "stream",
     "text": [
      "37.4\n"
     ]
    }
   ],
   "source": [
    "# Решение задачи 1.2\n",
    "gradus_c = input()\n",
    "gradus_c = float(gradus_c)\n",
    "print(f\"{gradus_c * 1.8 + 32}\")"
   ]
  },
  {
   "cell_type": "markdown",
   "metadata": {},
   "source": [
    "**Задача 1.3:** Вычислите гипотенузу прямоугольного треугольника с катетами 6 и 8"
   ]
  },
  {
   "cell_type": "code",
   "execution_count": 5,
   "metadata": {},
   "outputs": [
    {
     "name": "stdout",
     "output_type": "stream",
     "text": [
      "10.0\n"
     ]
    }
   ],
   "source": [
    "# Решение задачи 1.3\n",
    "import math\n",
    "a = 6\n",
    "b = 8\n",
    "c = a ** 2 + b ** 2\n",
    "print(f\"{math.sqrt(c)}\")"
   ]
  },
  {
   "cell_type": "markdown",
   "metadata": {},
   "source": [
    "**Задача 1.4:** Напишите программу, которая вычисляет сумму цифр трехзначного числа"
   ]
  },
  {
   "cell_type": "code",
   "execution_count": 8,
   "metadata": {},
   "outputs": [
    {
     "name": "stdout",
     "output_type": "stream",
     "text": [
      "6\n"
     ]
    }
   ],
   "source": [
    "# Решение задачи 1.4\n",
    "a = int(input())\n",
    "sum = 0\n",
    "sum += a % 10\n",
    "a = a // 10\n",
    "sum += a % 10\n",
    "a = a // 10\n",
    "sum += a % 10\n",
    "print(sum)"
   ]
  },
  {
   "cell_type": "markdown",
   "metadata": {},
   "source": [
    "**Задача 1.5:** Создайте программу для вычисления среднего арифметического трех чисел"
   ]
  },
  {
   "cell_type": "code",
   "execution_count": 10,
   "metadata": {},
   "outputs": [
    {
     "name": "stdout",
     "output_type": "stream",
     "text": [
      "3.0\n"
     ]
    }
   ],
   "source": [
    "# Решение задачи 1.5\n",
    "a = int(input())\n",
    "b = int(input())\n",
    "c = int(input())\n",
    "arif = (a + b + c) / 3\n",
    "print(arif)"
   ]
  },
  {
   "cell_type": "markdown",
   "metadata": {},
   "source": [
    "<a id=\"2\"></a>\n",
    "## 2. Базовые типы данных (строки)"
   ]
  },
  {
   "cell_type": "markdown",
   "metadata": {},
   "source": [
    "### 2.1 Создание строк\n",
    "\n",
    "Строки можно создавать с помощью одинарных, двойных или тройных кавычек."
   ]
  },
  {
   "cell_type": "code",
   "execution_count": 3,
   "metadata": {},
   "outputs": [
    {
     "name": "stdout",
     "output_type": "stream",
     "text": [
      "str1: Hello, World!\n",
      "str2: Python programming\n",
      "str3: Многострочная\n",
      "строка с переносом\n",
      "str4: Еще один способ\n",
      "создания строк\n"
     ]
    }
   ],
   "source": [
    "# Разные способы создания строк\n",
    "str1 = \"Hello, World!\"\n",
    "str2 = 'Python programming'\n",
    "str3 = \"\"\"Многострочная\n",
    "строка с переносом\"\"\"\n",
    "str4 = '''Еще один способ\n",
    "создания строк'''\n",
    "\n",
    "print(\"str1:\", str1)\n",
    "print(\"str2:\", str2)\n",
    "print(\"str3:\", str3)\n",
    "print(\"str4:\", str4)"
   ]
  },
  {
   "cell_type": "markdown",
   "metadata": {},
   "source": [
    "### 2.2 Базовые операции со строками\n",
    "\n",
    "| Операция | Описание | Пример |\n",
    "|----------|----------|---------|\n",
    "| `+` | Конкатенация | `\"Hello\" + \"World\" = \"HelloWorld\"` |\n",
    "| `*` | Повторение | `\"Hi\" * 3 = \"HiHiHi\"` |\n",
    "| `[]` | Индексация | `\"Python\"[0] = \"P\"` |\n",
    "| `[start:end]` | Срез | `\"Python\"[1:4] = \"yth\"` |\n",
    "| `len()` | Длина строки | `len(\"Hello\") = 5` |"
   ]
  },
  {
   "cell_type": "code",
   "execution_count": 11,
   "metadata": {},
   "outputs": [
    {
     "name": "stdout",
     "output_type": "stream",
     "text": [
      "Конкатенация: 'Hello' + ' ' + 'Python' = 'Hello Python'\n",
      "Повторение: 'Hello' * 3 = 'HelloHelloHello'\n",
      "Длина строки: len('Hello') = 5\n",
      "Индексация: 'Hello'[0] = 'H'\n",
      "Отрицательная индексация: 'Hello'[-1] = 'o'\n",
      "Срез: 'Hello'[1:4] = 'ell'\n"
     ]
    }
   ],
   "source": [
    "# Демонстрация базовых операций\n",
    "s1 = \"Hello\"\n",
    "s2 = \"Python\"\n",
    "\n",
    "print(f\"Конкатенация: '{s1}' + ' ' + '{s2}' = '{s1 + ' ' + s2}'\")\n",
    "print(f\"Повторение: '{s1}' * 3 = '{s1 * 3}'\")\n",
    "print(f\"Длина строки: len('{s1}') = {len(s1)}\")\n",
    "print(f\"Индексация: '{s1}'[0] = '{s1[0]}'\")\n",
    "print(f\"Отрицательная индексация: '{s1}'[-1] = '{s1[-1]}'\")\n",
    "print(f\"Срез: '{s1}'[1:4] = '{s1[1:4]}'\")"
   ]
  },
  {
   "cell_type": "markdown",
   "metadata": {},
   "source": [
    "### 2.3 Расширенная индексация и срезы\n",
    "\n",
    "Строки поддерживают сложные операции срезами с шагом и пропущенными границами."
   ]
  },
  {
   "cell_type": "code",
   "execution_count": 12,
   "metadata": {},
   "outputs": [
    {
     "name": "stdout",
     "output_type": "stream",
     "text": [
      "Исходная строка: 'Python Programming'\n",
      "Срез с шагом 2: 'Pto rgamn'\n",
      "Срез с шагом -1 (реверс): 'gnimmargorP nohtyP'\n",
      "Срез от начала до 6: 'Python'\n",
      "Срез с 7 до конца: 'Programming'\n",
      "Срез с шагом 3: 'Ph oai'\n",
      "Отрицательные индексы в срезах: 'mmi'\n"
     ]
    }
   ],
   "source": [
    "# Расширенные операции со срезами\n",
    "text = \"Python Programming\"\n",
    "\n",
    "print(f\"Исходная строка: '{text}'\")\n",
    "print(f\"Срез с шагом 2: '{text[::2]}'\")\n",
    "print(f\"Срез с шагом -1 (реверс): '{text[::-1]}'\")\n",
    "print(f\"Срез от начала до 6: '{text[:6]}'\")\n",
    "print(f\"Срез с 7 до конца: '{text[7:]}'\")\n",
    "print(f\"Срез с шагом 3: '{text[::3]}'\")\n",
    "print(f\"Отрицательные индексы в срезах: '{text[-5:-2]}'\")"
   ]
  },
  {
   "cell_type": "markdown",
   "metadata": {},
   "source": [
    "### 2.4 Неизменяемость строк\n",
    "\n",
    "Строки являются неизменяемыми объектами. Попытка изменить символ строки вызовет ошибку."
   ]
  },
  {
   "cell_type": "code",
   "execution_count": 13,
   "metadata": {},
   "outputs": [
    {
     "name": "stdout",
     "output_type": "stream",
     "text": [
      "Исходная строка: 'Hello'\n"
     ]
    },
    {
     "ename": "TypeError",
     "evalue": "'str' object does not support item assignment",
     "output_type": "error",
     "traceback": [
      "\u001b[31m---------------------------------------------------------------------------\u001b[39m",
      "\u001b[31mTypeError\u001b[39m                                 Traceback (most recent call last)",
      "\u001b[36mCell\u001b[39m\u001b[36m \u001b[39m\u001b[32mIn[13]\u001b[39m\u001b[32m, line 6\u001b[39m\n\u001b[32m      3\u001b[39m \u001b[38;5;28mprint\u001b[39m(\u001b[33mf\u001b[39m\u001b[33m\"\u001b[39m\u001b[33mИсходная строка: \u001b[39m\u001b[33m'\u001b[39m\u001b[38;5;132;01m{\u001b[39;00ms\u001b[38;5;132;01m}\u001b[39;00m\u001b[33m'\u001b[39m\u001b[33m\"\u001b[39m)\n\u001b[32m      5\u001b[39m \u001b[38;5;66;03m# Попытка изменить строку вызовет ошибку\u001b[39;00m\n\u001b[32m----> \u001b[39m\u001b[32m6\u001b[39m \u001b[43ms\u001b[49m\u001b[43m[\u001b[49m\u001b[32;43m0\u001b[39;49m\u001b[43m]\u001b[49m = \u001b[33m\"\u001b[39m\u001b[33mh\u001b[39m\u001b[33m\"\u001b[39m\n\u001b[32m      8\u001b[39m \u001b[38;5;66;03m# Правильный способ \"изменить\" строку - создать новую\u001b[39;00m\n\u001b[32m      9\u001b[39m new_s = \u001b[33m\"\u001b[39m\u001b[33mh\u001b[39m\u001b[33m\"\u001b[39m + s[\u001b[32m1\u001b[39m:]\n",
      "\u001b[31mTypeError\u001b[39m: 'str' object does not support item assignment"
     ]
    }
   ],
   "source": [
    "# Демонстрация неизменяемости строк\n",
    "s = \"Hello\"\n",
    "print(f\"Исходная строка: '{s}'\")\n",
    "\n",
    "# Попытка изменить строку вызовет ошибку\n",
    "s[0] = \"h\"\n",
    "\n",
    "# Правильный способ \"изменить\" строку - создать новую\n",
    "new_s = \"h\" + s[1:]\n",
    "print(f\"Новая строка: '{new_s}'\")"
   ]
  },
  {
   "cell_type": "markdown",
   "metadata": {},
   "source": [
    "### 2.5 Ошибки доступа к строкам\n",
    "\n",
    "Попытка доступа к несуществующему индексу вызывает IndexError."
   ]
  },
  {
   "cell_type": "code",
   "execution_count": 14,
   "metadata": {},
   "outputs": [
    {
     "name": "stdout",
     "output_type": "stream",
     "text": [
      "Длина строки: 6\n",
      "Доступ к существующему индексу: text[2] = 't'\n"
     ]
    },
    {
     "ename": "IndexError",
     "evalue": "string index out of range",
     "output_type": "error",
     "traceback": [
      "\u001b[31m---------------------------------------------------------------------------\u001b[39m",
      "\u001b[31mIndexError\u001b[39m                                Traceback (most recent call last)",
      "\u001b[36mCell\u001b[39m\u001b[36m \u001b[39m\u001b[32mIn[14]\u001b[39m\u001b[32m, line 8\u001b[39m\n\u001b[32m      5\u001b[39m \u001b[38;5;28mprint\u001b[39m(\u001b[33mf\u001b[39m\u001b[33m\"\u001b[39m\u001b[33mДоступ к существующему индексу: text[2] = \u001b[39m\u001b[33m'\u001b[39m\u001b[38;5;132;01m{\u001b[39;00mtext[\u001b[32m2\u001b[39m]\u001b[38;5;132;01m}\u001b[39;00m\u001b[33m'\u001b[39m\u001b[33m\"\u001b[39m)\n\u001b[32m      7\u001b[39m \u001b[38;5;66;03m# Попытка доступа к несуществующему индексу\u001b[39;00m\n\u001b[32m----> \u001b[39m\u001b[32m8\u001b[39m \u001b[38;5;28mprint\u001b[39m(\u001b[33mf\u001b[39m\u001b[33m\"\u001b[39m\u001b[33mПопытка доступа к несуществующему индексу: text[10] = \u001b[39m\u001b[33m'\u001b[39m\u001b[38;5;132;01m{\u001b[39;00m\u001b[43mtext\u001b[49m\u001b[43m[\u001b[49m\u001b[32;43m10\u001b[39;49m\u001b[43m]\u001b[49m\u001b[38;5;132;01m}\u001b[39;00m\u001b[33m'\u001b[39m\u001b[33m\"\u001b[39m)\n\u001b[32m     10\u001b[39m \u001b[38;5;66;03m# Попытка доступа к отрицательному индексу за пределами\u001b[39;00m\n\u001b[32m     11\u001b[39m \u001b[38;5;28mprint\u001b[39m(\u001b[33mf\u001b[39m\u001b[33m\"\u001b[39m\u001b[33mПопытка доступа к отрицательному индексу за пределами: text[-10] = \u001b[39m\u001b[33m'\u001b[39m\u001b[38;5;132;01m{\u001b[39;00mtext[-\u001b[32m10\u001b[39m]\u001b[38;5;132;01m}\u001b[39;00m\u001b[33m'\u001b[39m\u001b[33m\"\u001b[39m)\n",
      "\u001b[31mIndexError\u001b[39m: string index out of range"
     ]
    }
   ],
   "source": [
    "# Демонстрация ошибок доступа к строкам\n",
    "text = \"Python\"\n",
    "\n",
    "print(f\"Длина строки: {len(text)}\")\n",
    "print(f\"Доступ к существующему индексу: text[2] = '{text[2]}'\")\n",
    "\n",
    "# Попытка доступа к несуществующему индексу\n",
    "print(f\"Попытка доступа к несуществующему индексу: text[10] = '{text[10]}'\")\n",
    "\n",
    "# Попытка доступа к отрицательному индексу за пределами\n",
    "print(f\"Попытка доступа к отрицательному индексу за пределами: text[-10] = '{text[-10]}'\")"
   ]
  },
  {
   "cell_type": "markdown",
   "metadata": {},
   "source": [
    "### 2.6 Основные методы строк\n",
    "\n",
    "Строки имеют множество полезных методов для работы с текстом."
   ]
  },
  {
   "cell_type": "code",
   "execution_count": 15,
   "metadata": {},
   "outputs": [
    {
     "name": "stdout",
     "output_type": "stream",
     "text": [
      "Исходная строка: '  Hello, Python!  '\n",
      "upper(): '  HELLO, PYTHON!  '\n",
      "lower(): '  hello, python!  '\n",
      "strip(): 'Hello, Python!'\n",
      "replace('Python', 'World'): '  Hello, World!  '\n",
      "split(','): ['  Hello', ' Python!  ']\n",
      "find('Python'): 9\n",
      "startswith('Hello'): False\n",
      "endswith('!'): False\n",
      "capitalize(): 'Python programming'\n",
      "title(): 'Python Programming'\n"
     ]
    }
   ],
   "source": [
    "# Демонстрация методов строк\n",
    "text = \"  Hello, Python!  \"\n",
    "mixed_case = \"PyThOn PrOgRaMmInG\"\n",
    "\n",
    "print(f\"Исходная строка: '{text}'\")\n",
    "print(f\"upper(): '{text.upper()}'\")\n",
    "print(f\"lower(): '{text.lower()}'\")\n",
    "print(f\"strip(): '{text.strip()}'\")\n",
    "print(f\"replace('Python', 'World'): '{text.replace('Python', 'World')}'\")\n",
    "print(f\"split(','): {text.split(',')}\")\n",
    "print(f\"find('Python'): {text.find('Python')}\")\n",
    "print(f\"startswith('Hello'): {text.startswith('Hello')}\")\n",
    "print(f\"endswith('!'): {text.endswith('!')}\")\n",
    "print(f\"capitalize(): '{mixed_case.capitalize()}'\")\n",
    "print(f\"title(): '{mixed_case.title()}'\")"
   ]
  },
  {
   "cell_type": "markdown",
   "metadata": {},
   "source": [
    "### Задачи для практики (строки)"
   ]
  },
  {
   "cell_type": "markdown",
   "metadata": {},
   "source": [
    "**Задача 2.1:** Напишите программу, которая принимает имя и выводит приветствие"
   ]
  },
  {
   "cell_type": "code",
   "execution_count": 17,
   "metadata": {},
   "outputs": [
    {
     "name": "stdout",
     "output_type": "stream",
     "text": [
      "Hello, Python!\n"
     ]
    }
   ],
   "source": [
    "# Решение задачи 2.1\n",
    "s = input()\n",
    "print(f\"Hello, {s.title()}!\")"
   ]
  },
  {
   "cell_type": "markdown",
   "metadata": {},
   "source": [
    "**Задача 2.2:** Создайте программу, которая переворачивает строку"
   ]
  },
  {
   "cell_type": "code",
   "execution_count": 18,
   "metadata": {},
   "outputs": [
    {
     "name": "stdout",
     "output_type": "stream",
     "text": [
      "fdsa\n"
     ]
    }
   ],
   "source": [
    "# Решение задачи 2.2\n",
    "s = input()\n",
    "print(s[::-1])"
   ]
  },
  {
   "cell_type": "markdown",
   "metadata": {},
   "source": [
    "**Задача 2.3:** Напишите программу, которая подсчитывает количество пробелов в строке"
   ]
  },
  {
   "cell_type": "code",
   "execution_count": 21,
   "metadata": {},
   "outputs": [
    {
     "name": "stdout",
     "output_type": "stream",
     "text": [
      "3\n"
     ]
    }
   ],
   "source": [
    "# Решение задачи 2.3\n",
    "s = input()\n",
    "print(s.count(' '))"
   ]
  },
  {
   "cell_type": "markdown",
   "metadata": {},
   "source": [
    "**Задача 2.4:** Создайте программу, которая проверяет, начинается ли строка с определенной подстроки"
   ]
  },
  {
   "cell_type": "code",
   "execution_count": 23,
   "metadata": {},
   "outputs": [
    {
     "name": "stdout",
     "output_type": "stream",
     "text": [
      "False\n"
     ]
    }
   ],
   "source": [
    "# Решение задачи 2.4\n",
    "s = input()\n",
    "print(s.startswith(\"Hello\"))"
   ]
  },
  {
   "cell_type": "markdown",
   "metadata": {},
   "source": [
    "**Задача 2.5:** Напишите программу, которая преобразует строку в список слов"
   ]
  },
  {
   "cell_type": "code",
   "execution_count": 27,
   "metadata": {},
   "outputs": [
    {
     "name": "stdout",
     "output_type": "stream",
     "text": [
      "['asdf', 'asdf', 'asdf']\n"
     ]
    }
   ],
   "source": [
    "# Решение задачи 2.5\n",
    "s = input()\n",
    "print(s.split())"
   ]
  },
  {
   "cell_type": "markdown",
   "metadata": {},
   "source": [
    "**Задача 2.6:** Создайте программу, которая извлекает каждый второй символ из строки"
   ]
  },
  {
   "cell_type": "code",
   "execution_count": 28,
   "metadata": {},
   "outputs": [
    {
     "name": "stdout",
     "output_type": "stream",
     "text": [
      "ad\n"
     ]
    }
   ],
   "source": [
    "# Решение задачи 2.6\n",
    "s = input()\n",
    "print(s[::2])"
   ]
  },
  {
   "cell_type": "markdown",
   "metadata": {},
   "source": [
    "<a id=\"3\"></a>\n",
    "## 3. Базовые типы данных (массивы - списки)"
   ]
  },
  {
   "cell_type": "markdown",
   "metadata": {},
   "source": [
    "### 3.1 Создание списков\n",
    "\n",
    "Списки - изменяемые последовательности элементов."
   ]
  },
  {
   "cell_type": "code",
   "execution_count": null,
   "metadata": {},
   "outputs": [],
   "source": [
    "# Разные способы создания списков\n",
    "list1 = [1, 2, 3, 4, 5]                    # Числа\n",
    "list2 = [\"apple\", \"banana\", \"cherry\"]      # Строки\n",
    "list3 = [1, \"hello\", 3.14, True]           # Разные типы\n",
    "list4 = list(range(1, 6))                  # Из range\n",
    "list5 = []                                 # Пустой список\n",
    "\n",
    "print(\"list1:\", list1)\n",
    "print(\"list2:\", list2)\n",
    "print(\"list3:\", list3)\n",
    "print(\"list4:\", list4)\n",
    "print(\"list5:\", list5)"
   ]
  },
  {
   "cell_type": "markdown",
   "metadata": {},
   "source": [
    "### 3.2 Операции со списками\n",
    "\n",
    "| Операция | Описание | Пример |\n",
    "|----------|----------|---------|\n",
    "| `+` | Конкатенация | `[1,2] + [3,4] = [1,2,3,4]` |\n",
    "| `*` | Повторение | `[1,2] * 2 = [1,2,1,2]` |\n",
    "| `[]` | Индексация | `[1,2,3][0] = 1` |\n",
    "| `[start:end]` | Срез | `[1,2,3,4][1:3] = [2,3]` |\n",
    "| `in` | Проверка наличия | `2 in [1,2,3] = True` |"
   ]
  },
  {
   "cell_type": "code",
   "execution_count": 29,
   "metadata": {},
   "outputs": [
    {
     "name": "stdout",
     "output_type": "stream",
     "text": [
      "Исходный список: [1, 2, 3, 4, 5]\n",
      "Конкатенация: [1, 2, 3, 4, 5] + [6,7] = [1, 2, 3, 4, 5, 6, 7]\n",
      "Повторение: ['apple', 'banana'] * 2 = ['apple', 'banana', 'apple', 'banana']\n",
      "Длина: len([1, 2, 3, 4, 5]) = 5\n",
      "Индексация: [1, 2, 3, 4, 5][0] = 1\n",
      "Срез: [1, 2, 3, 4, 5][1:4] = [2, 3, 4]\n",
      "Проверка наличия: 3 in [1, 2, 3, 4, 5] = True\n"
     ]
    }
   ],
   "source": [
    "# Демонстрация операций со списками\n",
    "numbers = [1, 2, 3, 4, 5]\n",
    "fruits = [\"apple\", \"banana\"]\n",
    "\n",
    "print(f\"Исходный список: {numbers}\")\n",
    "print(f\"Конкатенация: {numbers} + [6,7] = {numbers + [6, 7]}\")\n",
    "print(f\"Повторение: {fruits} * 2 = {fruits * 2}\")\n",
    "print(f\"Длина: len({numbers}) = {len(numbers)}\")\n",
    "print(f\"Индексация: {numbers}[0] = {numbers[0]}\")\n",
    "print(f\"Срез: {numbers}[1:4] = {numbers[1:4]}\")\n",
    "print(f\"Проверка наличия: 3 in {numbers} = {3 in numbers}\")"
   ]
  },
  {
   "cell_type": "markdown",
   "metadata": {},
   "source": [
    "### 3.3 Расширенная индексация и срезы в списках\n",
    "\n",
    "Списки поддерживают те же операции срезами, что и строки."
   ]
  },
  {
   "cell_type": "code",
   "execution_count": 30,
   "metadata": {},
   "outputs": [
    {
     "name": "stdout",
     "output_type": "stream",
     "text": [
      "Исходный список: [0, 1, 2, 3, 4, 5, 6, 7, 8, 9]\n",
      "Срез с шагом 2: [0, 2, 4, 6, 8]\n",
      "Срез с шагом -1 (реверс): [9, 8, 7, 6, 5, 4, 3, 2, 1, 0]\n",
      "Срез от начала до 5: [0, 1, 2, 3, 4]\n",
      "Срез с 5 до конца: [5, 6, 7, 8, 9]\n",
      "Срез с шагом 3: [0, 3, 6, 9]\n",
      "Отрицательные индексы в срезах: [5, 6, 7]\n",
      "Отрицательный шаг с границами: [8, 6, 4]\n"
     ]
    }
   ],
   "source": [
    "# Расширенные операции со срезами в списках\n",
    "numbers = [0, 1, 2, 3, 4, 5, 6, 7, 8, 9]\n",
    "\n",
    "print(f\"Исходный список: {numbers}\")\n",
    "print(f\"Срез с шагом 2: {numbers[::2]}\")\n",
    "print(f\"Срез с шагом -1 (реверс): {numbers[::-1]}\")\n",
    "print(f\"Срез от начала до 5: {numbers[:5]}\")\n",
    "print(f\"Срез с 5 до конца: {numbers[5:]}\")\n",
    "print(f\"Срез с шагом 3: {numbers[::3]}\")\n",
    "print(f\"Отрицательные индексы в срезах: {numbers[-5:-2]}\")\n",
    "print(f\"Отрицательный шаг с границами: {numbers[8:2:-2]}\")"
   ]
  },
  {
   "cell_type": "markdown",
   "metadata": {},
   "source": [
    "### 3.4 Изменяемость списков\n",
    "\n",
    "Списки являются изменяемыми объектами. Мы можем изменять, добавлять и удалять элементы."
   ]
  },
  {
   "cell_type": "code",
   "execution_count": 31,
   "metadata": {},
   "outputs": [
    {
     "name": "stdout",
     "output_type": "stream",
     "text": [
      "Исходный список: [1, 2, 3, 4, 5]\n",
      "После изменения my_list[0] = 10: [10, 2, 3, 4, 5]\n",
      "После изменения среза my_list[1:3] = [20, 30]: [10, 20, 30, 4, 5]\n",
      "После append(6): [10, 20, 30, 4, 5, 6]\n",
      "После del my_list[2]: [10, 20, 4, 5, 6]\n"
     ]
    }
   ],
   "source": [
    "# Демонстрация изменяемости списков\n",
    "my_list = [1, 2, 3, 4, 5]\n",
    "print(f\"Исходный список: {my_list}\")\n",
    "\n",
    "# Изменение элемента по индексу\n",
    "my_list[0] = 10\n",
    "print(f\"После изменения my_list[0] = 10: {my_list}\")\n",
    "\n",
    "# Изменение среза\n",
    "my_list[1:3] = [20, 30]\n",
    "print(f\"После изменения среза my_list[1:3] = [20, 30]: {my_list}\")\n",
    "\n",
    "# Добавление элемента\n",
    "my_list.append(6)\n",
    "print(f\"После append(6): {my_list}\")\n",
    "\n",
    "# Удаление элемента\n",
    "del my_list[2]\n",
    "print(f\"После del my_list[2]: {my_list}\")"
   ]
  },
  {
   "cell_type": "markdown",
   "metadata": {},
   "source": [
    "### 3.5 Ошибки доступа к спискам\n",
    "\n",
    "Попытка доступа к несуществующему индексу вызывает IndexError."
   ]
  },
  {
   "cell_type": "code",
   "execution_count": 32,
   "metadata": {},
   "outputs": [
    {
     "name": "stdout",
     "output_type": "stream",
     "text": [
      "Длина списка: 3\n",
      "Доступ к существующему индексу: my_list[1] = 2\n"
     ]
    },
    {
     "ename": "IndexError",
     "evalue": "list index out of range",
     "output_type": "error",
     "traceback": [
      "\u001b[31m---------------------------------------------------------------------------\u001b[39m",
      "\u001b[31mIndexError\u001b[39m                                Traceback (most recent call last)",
      "\u001b[36mCell\u001b[39m\u001b[36m \u001b[39m\u001b[32mIn[32]\u001b[39m\u001b[32m, line 8\u001b[39m\n\u001b[32m      5\u001b[39m \u001b[38;5;28mprint\u001b[39m(\u001b[33mf\u001b[39m\u001b[33m\"\u001b[39m\u001b[33mДоступ к существующему индексу: my_list[1] = \u001b[39m\u001b[38;5;132;01m{\u001b[39;00mmy_list[\u001b[32m1\u001b[39m]\u001b[38;5;132;01m}\u001b[39;00m\u001b[33m\"\u001b[39m)\n\u001b[32m      7\u001b[39m \u001b[38;5;66;03m# Попытка доступа к несуществующему индексу\u001b[39;00m\n\u001b[32m----> \u001b[39m\u001b[32m8\u001b[39m \u001b[38;5;28mprint\u001b[39m(\u001b[33mf\u001b[39m\u001b[33m\"\u001b[39m\u001b[33mПопытка доступа к несуществующему индексу: my_list[5] = \u001b[39m\u001b[38;5;132;01m{\u001b[39;00m\u001b[43mmy_list\u001b[49m\u001b[43m[\u001b[49m\u001b[32;43m5\u001b[39;49m\u001b[43m]\u001b[49m\u001b[38;5;132;01m}\u001b[39;00m\u001b[33m\"\u001b[39m)\n\u001b[32m     10\u001b[39m \u001b[38;5;66;03m# Попытка доступа к отрицательному индексу за пределами\u001b[39;00m\n\u001b[32m     11\u001b[39m \u001b[38;5;28mprint\u001b[39m(\u001b[33mf\u001b[39m\u001b[33m\"\u001b[39m\u001b[33mПопытка доступа к отрицательному индексу за пределами: my_list[-5] = \u001b[39m\u001b[38;5;132;01m{\u001b[39;00mmy_list[-\u001b[32m5\u001b[39m]\u001b[38;5;132;01m}\u001b[39;00m\u001b[33m\"\u001b[39m)\n",
      "\u001b[31mIndexError\u001b[39m: list index out of range"
     ]
    }
   ],
   "source": [
    "# Демонстрация ошибок доступа к спискам\n",
    "my_list = [1, 2, 3]\n",
    "\n",
    "print(f\"Длина списка: {len(my_list)}\")\n",
    "print(f\"Доступ к существующему индексу: my_list[1] = {my_list[1]}\")\n",
    "\n",
    "# Попытка доступа к несуществующему индексу\n",
    "print(f\"Попытка доступа к несуществующему индексу: my_list[5] = {my_list[5]}\")\n",
    "\n",
    "# Попытка доступа к отрицательному индексу за пределами\n",
    "print(f\"Попытка доступа к отрицательному индексу за пределами: my_list[-5] = {my_list[-5]}\")"
   ]
  },
  {
   "cell_type": "markdown",
   "metadata": {},
   "source": [
    "### 3.6 Методы списков\n",
    "\n",
    "Основные методы для работы со списками."
   ]
  },
  {
   "cell_type": "code",
   "execution_count": 33,
   "metadata": {},
   "outputs": [
    {
     "name": "stdout",
     "output_type": "stream",
     "text": [
      "Исходный список: [1, 2, 3]\n",
      "После append(4): [1, 2, 3, 4]\n",
      "После insert(1, 10): [1, 10, 2, 3, 4]\n",
      "После extend([5, 6]): [1, 10, 2, 3, 4, 5, 6]\n",
      "После pop(): [1, 10, 2, 3, 4, 5], удален: 6\n",
      "После remove(10): [1, 2, 3, 4, 5]\n",
      "После reverse(): [5, 4, 3, 2, 1]\n",
      "После sort(): [1, 2, 3, 4, 5]\n"
     ]
    }
   ],
   "source": [
    "# Демонстрация методов списков\n",
    "numbers = [1, 2, 3]\n",
    "print(f\"Исходный список: {numbers}\")\n",
    "\n",
    "numbers.append(4)\n",
    "print(f\"После append(4): {numbers}\")\n",
    "\n",
    "numbers.insert(1, 10)\n",
    "print(f\"После insert(1, 10): {numbers}\")\n",
    "\n",
    "numbers.extend([5, 6])\n",
    "print(f\"После extend([5, 6]): {numbers}\")\n",
    "\n",
    "removed = numbers.pop()\n",
    "print(f\"После pop(): {numbers}, удален: {removed}\")\n",
    "\n",
    "numbers.remove(10)\n",
    "print(f\"После remove(10): {numbers}\")\n",
    "\n",
    "numbers.reverse()\n",
    "print(f\"После reverse(): {numbers}\")\n",
    "\n",
    "numbers.sort()\n",
    "print(f\"После sort(): {numbers}\")"
   ]
  },
  {
   "cell_type": "markdown",
   "metadata": {},
   "source": [
    "### Задачи для практики (списки)"
   ]
  },
  {
   "cell_type": "markdown",
   "metadata": {},
   "source": [
    "**Задача 3.1:** Создайте список чисел от 1 до 10 и выведите все элементы"
   ]
  },
  {
   "cell_type": "code",
   "execution_count": 37,
   "metadata": {},
   "outputs": [
    {
     "name": "stdout",
     "output_type": "stream",
     "text": [
      "[1, 2, 3, 4, 5, 6, 7, 8, 9, 10]\n"
     ]
    }
   ],
   "source": [
    "# Решение задачи 3.1\n",
    "my_list = list(range(1,11))\n",
    "print(my_list)\n"
   ]
  },
  {
   "cell_type": "markdown",
   "metadata": {},
   "source": [
    "**Задача 3.2:** Напишите программу, которая находит сумму всех элементов списка"
   ]
  },
  {
   "cell_type": "code",
   "execution_count": 42,
   "metadata": {},
   "outputs": [
    {
     "name": "stdout",
     "output_type": "stream",
     "text": [
      "6\n"
     ]
    }
   ],
   "source": [
    "# Решение задачи 3.2\n",
    "my_list = [1,2,3]\n",
    "sum = 0\n",
    "for el in my_list:\n",
    "    sum += el\n",
    "print(sum)"
   ]
  },
  {
   "cell_type": "markdown",
   "metadata": {},
   "source": [
    "**Задача 3.3:** Создайте программу, которая находит максимальный элемент в списке"
   ]
  },
  {
   "cell_type": "code",
   "execution_count": null,
   "metadata": {},
   "outputs": [
    {
     "name": "stdout",
     "output_type": "stream",
     "text": [
      "3\n"
     ]
    }
   ],
   "source": [
    "# Решение задачи 3.3\n",
    "my_list = [1, 2, 3, 2]\n",
    "print(max(my_list))"
   ]
  },
  {
   "cell_type": "markdown",
   "metadata": {},
   "source": [
    "**Задача 3.4:** Напишите программу, которая объединяет два списка"
   ]
  },
  {
   "cell_type": "code",
   "execution_count": 48,
   "metadata": {},
   "outputs": [
    {
     "name": "stdout",
     "output_type": "stream",
     "text": [
      "[1, 3, 5, 2, 4, 6]\n"
     ]
    }
   ],
   "source": [
    "# Решение задачи 3.4\n",
    "my_list = [1, 3, 5]\n",
    "my_list_1 = [2, 4, 6]\n",
    "print(my_list + my_list_1)"
   ]
  },
  {
   "cell_type": "markdown",
   "metadata": {},
   "source": [
    "**Задача 3.5:** Создайте программу, которая проверяет, пуст ли список"
   ]
  },
  {
   "cell_type": "code",
   "execution_count": 50,
   "metadata": {},
   "outputs": [
    {
     "name": "stdout",
     "output_type": "stream",
     "text": [
      "Not Empty\n"
     ]
    }
   ],
   "source": [
    "# Решение задачи 3.5\n",
    "my_list = [1, 2, 3]\n",
    "if len(my_list) != 0:\n",
    "    print(\"Not Empty\")\n",
    "else:\n",
    "    print(\"Empty\")"
   ]
  },
  {
   "cell_type": "markdown",
   "metadata": {},
   "source": [
    "**Задача 3.6:** Напишите программу, которая создает список с шагом 2 из исходного списка"
   ]
  },
  {
   "cell_type": "code",
   "execution_count": 51,
   "metadata": {},
   "outputs": [
    {
     "name": "stdout",
     "output_type": "stream",
     "text": [
      "[1, 3, 5]\n"
     ]
    }
   ],
   "source": [
    "# Решение задачи 3.6\n",
    "my_list = list(range(1,7))\n",
    "my_list_1 = my_list[::2]\n",
    "print(my_list_1)"
   ]
  },
  {
   "cell_type": "markdown",
   "metadata": {},
   "source": [
    "<a id=\"4\"></a>\n",
    "## 4. Базовые типы данных (кортежи)"
   ]
  },
  {
   "cell_type": "markdown",
   "metadata": {},
   "source": [
    "### 4.1 Создание кортежей\n",
    "\n",
    "Кортежи - неизменяемые последовательности."
   ]
  },
  {
   "cell_type": "code",
   "execution_count": 52,
   "metadata": {},
   "outputs": [
    {
     "name": "stdout",
     "output_type": "stream",
     "text": [
      "tuple1: (1, 2, 3, 4, 5)\n",
      "tuple2: ('apple', 'banana', 'cherry')\n",
      "tuple3: (1, 'hello', 3.14, True)\n",
      "tuple4: (1, 2, 3)\n",
      "tuple5: ()\n"
     ]
    }
   ],
   "source": [
    "# Разные способы создания кортежей\n",
    "tuple1 = (1, 2, 3, 4, 5)           # Числа\n",
    "tuple2 = (\"apple\", \"banana\", \"cherry\")  # Строки\n",
    "tuple3 = (1, \"hello\", 3.14, True)  # Разные типы\n",
    "tuple4 = tuple([1, 2, 3])          # Из списка\n",
    "tuple5 = ()                        # Пустой кортеж\n",
    "\n",
    "print(\"tuple1:\", tuple1)\n",
    "print(\"tuple2:\", tuple2)\n",
    "print(\"tuple3:\", tuple3)\n",
    "print(\"tuple4:\", tuple4)\n",
    "print(\"tuple5:\", tuple5)"
   ]
  },
  {
   "cell_type": "markdown",
   "metadata": {},
   "source": [
    "### 4.2 Особенности кортежей\n",
    "\n",
    "Кортежи с одним элементом требуют запятой после элемента."
   ]
  },
  {
   "cell_type": "code",
   "execution_count": 53,
   "metadata": {},
   "outputs": [
    {
     "name": "stdout",
     "output_type": "stream",
     "text": [
      "single_element: (5,), тип: <class 'tuple'>\n",
      "not_a_tuple: 5, тип: <class 'int'>\n",
      "empty_tuple: (), тип: <class 'tuple'>\n"
     ]
    }
   ],
   "source": [
    "# Особенности создания кортежей\n",
    "single_element = (5,)      # Кортеж с одним элементом\n",
    "not_a_tuple = (5)          # Это не кортеж, а число\n",
    "empty_tuple = ()           # Пустой кортеж\n",
    "\n",
    "print(f\"single_element: {single_element}, тип: {type(single_element)}\")\n",
    "print(f\"not_a_tuple: {not_a_tuple}, тип: {type(not_a_tuple)}\")\n",
    "print(f\"empty_tuple: {empty_tuple}, тип: {type(empty_tuple)}\")"
   ]
  },
  {
   "cell_type": "markdown",
   "metadata": {},
   "source": [
    "### 4.3 Операции с кортежами\n",
    "\n",
    "Кортежи поддерживают те же операции, что и списки, кроме изменяющих методов."
   ]
  },
  {
   "cell_type": "code",
   "execution_count": 54,
   "metadata": {},
   "outputs": [
    {
     "name": "stdout",
     "output_type": "stream",
     "text": [
      "Исходный кортеж: (1, 2, 3, 4, 5)\n",
      "Длина: len((1, 2, 3, 4, 5)) = 5\n",
      "Индексация: (1, 2, 3, 4, 5)[0] = 1\n",
      "Срез: (1, 2, 3, 4, 5)[1:4] = (2, 3, 4)\n",
      "Конкатенация: (1, 2, 3, 4, 5) + (6, 7) = (1, 2, 3, 4, 5, 6, 7)\n",
      "Повторение: (1, 2) * 3 = (1, 2, 1, 2, 1, 2)\n",
      "Проверка наличия: 3 in (1, 2, 3, 4, 5) = True\n"
     ]
    }
   ],
   "source": [
    "# Демонстрация операций с кортежами\n",
    "t = (1, 2, 3, 4, 5)\n",
    "\n",
    "print(f\"Исходный кортеж: {t}\")\n",
    "print(f\"Длина: len({t}) = {len(t)}\")\n",
    "print(f\"Индексация: {t}[0] = {t[0]}\")\n",
    "print(f\"Срез: {t}[1:4] = {t[1:4]}\")\n",
    "print(f\"Конкатенация: {t} + (6, 7) = {t + (6, 7)}\")\n",
    "print(f\"Повторение: {t[:2]} * 3 = {t[:2] * 3}\")\n",
    "print(f\"Проверка наличия: 3 in {t} = {3 in t}\")"
   ]
  },
  {
   "cell_type": "markdown",
   "metadata": {},
   "source": [
    "### 4.4 Неизменяемость кортежей\n",
    "\n",
    "Кортежи являются неизменяемыми объектами. Попытка изменить элемент кортежа вызовет ошибку."
   ]
  },
  {
   "cell_type": "code",
   "execution_count": 55,
   "metadata": {},
   "outputs": [
    {
     "name": "stdout",
     "output_type": "stream",
     "text": [
      "Исходный кортеж: (1, 2, 3, 4, 5)\n"
     ]
    },
    {
     "ename": "TypeError",
     "evalue": "'tuple' object does not support item assignment",
     "output_type": "error",
     "traceback": [
      "\u001b[31m---------------------------------------------------------------------------\u001b[39m",
      "\u001b[31mTypeError\u001b[39m                                 Traceback (most recent call last)",
      "\u001b[36mCell\u001b[39m\u001b[36m \u001b[39m\u001b[32mIn[55]\u001b[39m\u001b[32m, line 6\u001b[39m\n\u001b[32m      3\u001b[39m \u001b[38;5;28mprint\u001b[39m(\u001b[33mf\u001b[39m\u001b[33m\"\u001b[39m\u001b[33mИсходный кортеж: \u001b[39m\u001b[38;5;132;01m{\u001b[39;00mmy_tuple\u001b[38;5;132;01m}\u001b[39;00m\u001b[33m\"\u001b[39m)\n\u001b[32m      5\u001b[39m \u001b[38;5;66;03m# Попытка изменить кортеж вызовет ошибку\u001b[39;00m\n\u001b[32m----> \u001b[39m\u001b[32m6\u001b[39m \u001b[43mmy_tuple\u001b[49m\u001b[43m[\u001b[49m\u001b[32;43m0\u001b[39;49m\u001b[43m]\u001b[49m = \u001b[32m10\u001b[39m\n\u001b[32m      8\u001b[39m \u001b[38;5;66;03m# Правильный способ \"изменить\" кортеж - создать новый\u001b[39;00m\n\u001b[32m      9\u001b[39m new_tuple = (\u001b[32m10\u001b[39m,) + my_tuple[\u001b[32m1\u001b[39m:]\n",
      "\u001b[31mTypeError\u001b[39m: 'tuple' object does not support item assignment"
     ]
    }
   ],
   "source": [
    "# Демонстрация неизменяемости кортежей\n",
    "my_tuple = (1, 2, 3, 4, 5)\n",
    "print(f\"Исходный кортеж: {my_tuple}\")\n",
    "\n",
    "# Попытка изменить кортеж вызовет ошибку\n",
    "my_tuple[0] = 10\n",
    "\n",
    "# Правильный способ \"изменить\" кортеж - создать новый\n",
    "new_tuple = (10,) + my_tuple[1:]\n",
    "print(f\"Новый кортеж: {new_tuple}\")"
   ]
  },
  {
   "cell_type": "markdown",
   "metadata": {},
   "source": [
    "### 4.5 Ошибки доступа к кортежам\n",
    "\n",
    "Попытка доступа к несуществующему индексу вызывает IndexError."
   ]
  },
  {
   "cell_type": "code",
   "execution_count": 56,
   "metadata": {},
   "outputs": [
    {
     "name": "stdout",
     "output_type": "stream",
     "text": [
      "Длина кортежа: 3\n",
      "Доступ к существующему индексу: my_tuple[1] = 2\n"
     ]
    },
    {
     "ename": "IndexError",
     "evalue": "tuple index out of range",
     "output_type": "error",
     "traceback": [
      "\u001b[31m---------------------------------------------------------------------------\u001b[39m",
      "\u001b[31mIndexError\u001b[39m                                Traceback (most recent call last)",
      "\u001b[36mCell\u001b[39m\u001b[36m \u001b[39m\u001b[32mIn[56]\u001b[39m\u001b[32m, line 8\u001b[39m\n\u001b[32m      5\u001b[39m \u001b[38;5;28mprint\u001b[39m(\u001b[33mf\u001b[39m\u001b[33m\"\u001b[39m\u001b[33mДоступ к существующему индексу: my_tuple[1] = \u001b[39m\u001b[38;5;132;01m{\u001b[39;00mmy_tuple[\u001b[32m1\u001b[39m]\u001b[38;5;132;01m}\u001b[39;00m\u001b[33m\"\u001b[39m)\n\u001b[32m      7\u001b[39m \u001b[38;5;66;03m# Попытка доступа к несуществующему индексу\u001b[39;00m\n\u001b[32m----> \u001b[39m\u001b[32m8\u001b[39m \u001b[38;5;28mprint\u001b[39m(\u001b[33mf\u001b[39m\u001b[33m\"\u001b[39m\u001b[33mПопытка доступа к несуществующему индексу: my_tuple[5] = \u001b[39m\u001b[38;5;132;01m{\u001b[39;00m\u001b[43mmy_tuple\u001b[49m\u001b[43m[\u001b[49m\u001b[32;43m5\u001b[39;49m\u001b[43m]\u001b[49m\u001b[38;5;132;01m}\u001b[39;00m\u001b[33m\"\u001b[39m)\n\u001b[32m     10\u001b[39m \u001b[38;5;66;03m# Попытка доступа к отрицательному индексу за пределами\u001b[39;00m\n\u001b[32m     11\u001b[39m \u001b[38;5;28mprint\u001b[39m(\u001b[33mf\u001b[39m\u001b[33m\"\u001b[39m\u001b[33mПопытка доступа к отрицательному индексу за пределами: my_tuple[-5] = \u001b[39m\u001b[38;5;132;01m{\u001b[39;00mmy_tuple[-\u001b[32m5\u001b[39m]\u001b[38;5;132;01m}\u001b[39;00m\u001b[33m\"\u001b[39m)\n",
      "\u001b[31mIndexError\u001b[39m: tuple index out of range"
     ]
    }
   ],
   "source": [
    "# Демонстрация ошибок доступа к кортежам\n",
    "my_tuple = (1, 2, 3)\n",
    "\n",
    "print(f\"Длина кортежа: {len(my_tuple)}\")\n",
    "print(f\"Доступ к существующему индексу: my_tuple[1] = {my_tuple[1]}\")\n",
    "\n",
    "# Попытка доступа к несуществующему индексу\n",
    "print(f\"Попытка доступа к несуществующему индексу: my_tuple[5] = {my_tuple[5]}\")\n",
    "\n",
    "# Попытка доступа к отрицательному индексу за пределами\n",
    "print(f\"Попытка доступа к отрицательному индексу за пределами: my_tuple[-5] = {my_tuple[-5]}\")"
   ]
  },
  {
   "cell_type": "markdown",
   "metadata": {},
   "source": [
    "### 4.6 Распаковка кортежей\n",
    "\n",
    "Кортежи можно распаковывать в отдельные переменные."
   ]
  },
  {
   "cell_type": "code",
   "execution_count": 57,
   "metadata": {},
   "outputs": [
    {
     "name": "stdout",
     "output_type": "stream",
     "text": [
      "point = (10, 20)\n",
      "После распаковки: x = 10, y = 20\n",
      "coordinates = (1, 2, 3)\n",
      "После распаковки: a = 1, b = 2, c = 3\n"
     ]
    }
   ],
   "source": [
    "# Демонстрация распаковки кортежей\n",
    "point = (10, 20)\n",
    "x, y = point\n",
    "print(f\"point = {point}\")\n",
    "print(f\"После распаковки: x = {x}, y = {y}\")\n",
    "\n",
    "# Множественная распаковка\n",
    "coordinates = (1, 2, 3)\n",
    "a, b, c = coordinates\n",
    "print(f\"coordinates = {coordinates}\")\n",
    "print(f\"После распаковки: a = {a}, b = {b}, c = {c}\")"
   ]
  },
  {
   "cell_type": "markdown",
   "metadata": {},
   "source": [
    "### Задачи для практики (кортежи)"
   ]
  },
  {
   "cell_type": "markdown",
   "metadata": {},
   "source": [
    "**Задача 4.1:** Создайте кортеж с координатами точки и распакуйте его"
   ]
  },
  {
   "cell_type": "code",
   "execution_count": 58,
   "metadata": {},
   "outputs": [
    {
     "name": "stdout",
     "output_type": "stream",
     "text": [
      "2, 4\n"
     ]
    }
   ],
   "source": [
    "# Решение задачи 4.1\n",
    "point = (2, 4)\n",
    "x, y = point\n",
    "print(f\"{x}, {y}\")"
   ]
  },
  {
   "cell_type": "markdown",
   "metadata": {},
   "source": [
    "**Задача 4.2:** Напишите программу, которая объединяет два кортежа"
   ]
  },
  {
   "cell_type": "code",
   "execution_count": 59,
   "metadata": {},
   "outputs": [
    {
     "name": "stdout",
     "output_type": "stream",
     "text": [
      "(1, 2, 3, 4, 5, 6)\n"
     ]
    }
   ],
   "source": [
    "# Решение задачи 4.2\n",
    "tup = (1, 2, 3)\n",
    "tup_2 = (4, 5, 6)\n",
    "print(tup + tup_2)"
   ]
  },
  {
   "cell_type": "markdown",
   "metadata": {},
   "source": [
    "**Задача 4.3:** Создайте кортеж из трех элементов и выведите его длину"
   ]
  },
  {
   "cell_type": "code",
   "execution_count": 60,
   "metadata": {},
   "outputs": [
    {
     "name": "stdout",
     "output_type": "stream",
     "text": [
      "3\n"
     ]
    }
   ],
   "source": [
    "# Решение задачи 4.3\n",
    "tup = (1, 2, 3)\n",
    "print(len(tup))"
   ]
  },
  {
   "cell_type": "markdown",
   "metadata": {},
   "source": [
    "**Задача 4.4:** Напишите программу, которая проверяет наличие элемента в кортеже"
   ]
  },
  {
   "cell_type": "code",
   "execution_count": 61,
   "metadata": {},
   "outputs": [
    {
     "name": "stdout",
     "output_type": "stream",
     "text": [
      "True\n"
     ]
    }
   ],
   "source": [
    "# Решение задачи 4.4\n",
    "tup = (1, 2, 3)\n",
    "n = int(input())\n",
    "print(n in tup)"
   ]
  },
  {
   "cell_type": "markdown",
   "metadata": {},
   "source": [
    "**Задача 4.5:** Создайте кортеж и выведите его последний элемент"
   ]
  },
  {
   "cell_type": "code",
   "execution_count": 62,
   "metadata": {},
   "outputs": [
    {
     "name": "stdout",
     "output_type": "stream",
     "text": [
      "3\n"
     ]
    }
   ],
   "source": [
    "# Решение задачи 4.5\n",
    "tup = (1, 2, 3)\n",
    "print(tup[len(tup) - 1])"
   ]
  },
  {
   "cell_type": "markdown",
   "metadata": {},
   "source": [
    "**Задача 4.6:** Напишите программу, которая пытается изменить элемент кортежа"
   ]
  },
  {
   "cell_type": "code",
   "execution_count": 63,
   "metadata": {},
   "outputs": [
    {
     "ename": "TypeError",
     "evalue": "'tuple' object does not support item assignment",
     "output_type": "error",
     "traceback": [
      "\u001b[31m---------------------------------------------------------------------------\u001b[39m",
      "\u001b[31mTypeError\u001b[39m                                 Traceback (most recent call last)",
      "\u001b[36mCell\u001b[39m\u001b[36m \u001b[39m\u001b[32mIn[63]\u001b[39m\u001b[32m, line 3\u001b[39m\n\u001b[32m      1\u001b[39m \u001b[38;5;66;03m# Решение задачи 4.6\u001b[39;00m\n\u001b[32m      2\u001b[39m tup = (\u001b[32m1\u001b[39m, \u001b[32m2\u001b[39m, \u001b[32m3\u001b[39m)\n\u001b[32m----> \u001b[39m\u001b[32m3\u001b[39m \u001b[43mtup\u001b[49m\u001b[43m[\u001b[49m\u001b[32;43m2\u001b[39;49m\u001b[43m]\u001b[49m = \u001b[32m1000000\u001b[39m\n",
      "\u001b[31mTypeError\u001b[39m: 'tuple' object does not support item assignment"
     ]
    }
   ],
   "source": [
    "# Решение задачи 4.6\n",
    "tup = (1, 2, 3)\n",
    "tup[2] = 1000000"
   ]
  },
  {
   "cell_type": "markdown",
   "metadata": {},
   "source": [
    "<a id=\"5\"></a>\n",
    "## 5. Базовые типы данных (словари)"
   ]
  },
  {
   "cell_type": "markdown",
   "metadata": {},
   "source": [
    "### 5.1 Создание словарей\n",
    "\n",
    "Словари - коллекции пар ключ-значение."
   ]
  },
  {
   "cell_type": "code",
   "execution_count": 2,
   "metadata": {},
   "outputs": [
    {
     "name": "stdout",
     "output_type": "stream",
     "text": [
      "dict1: {'name': 'Alice', 'age': 25, 'city': 'Moscow'}\n",
      "dict2: {'name': 'Bob', 'age': 30, 'city': 'SPb'}\n",
      "dict3: {1: 'one', 2: 'two', 3: 'three'}\n",
      "dict4: {}\n"
     ]
    }
   ],
   "source": [
    "# Разные способы создания словарей\n",
    "dict1 = {\"name\": \"Alice\", \"age\": 25, \"city\": \"Moscow\"}  # Литерал\n",
    "dict2 = dict(name=\"Bob\", age=30, city=\"SPb\")           # Функция dict()\n",
    "dict3 = {1: \"one\", 2: \"two\", 3: \"three\"}               # Числовые ключи\n",
    "dict4 = {}                                            # Пустой словарь\n",
    "\n",
    "print(\"dict1:\", dict1)\n",
    "print(\"dict2:\", dict2)\n",
    "print(\"dict3:\", dict3)\n",
    "print(\"dict4:\", dict4)"
   ]
  },
  {
   "cell_type": "markdown",
   "metadata": {},
   "source": [
    "### 5.2 Операции со словарями\n",
    "\n",
    "| Операция | Описание | Пример |\n",
    "|----------|----------|---------|\n",
    "| `[]` | Доступ по ключу | `dict[\"key\"]` |\n",
    "| `in` | Проверка ключа | `\"key\" in dict` |\n",
    "| `del` | Удаление элемента | `del dict[\"key\"]` |"
   ]
  },
  {
   "cell_type": "code",
   "execution_count": 3,
   "metadata": {},
   "outputs": [
    {
     "name": "stdout",
     "output_type": "stream",
     "text": [
      "Исходный словарь: {'name': 'Alice', 'age': 25, 'city': 'Moscow'}\n",
      "Доступ по ключу: person['name'] = Alice\n",
      "Проверка ключа: 'age' in person = True\n",
      "Проверка ключа: 'salary' in person = False\n",
      "get('age'): 25\n",
      "get('salary'): None\n",
      "get('salary', 'Не указано'): Не указано\n"
     ]
    }
   ],
   "source": [
    "# Демонстрация операций со словарями\n",
    "person = {\"name\": \"Alice\", \"age\": 25, \"city\": \"Moscow\"}\n",
    "\n",
    "print(f\"Исходный словарь: {person}\")\n",
    "print(f\"Доступ по ключу: person['name'] = {person['name']}\")\n",
    "print(f\"Проверка ключа: 'age' in person = {'age' in person}\")\n",
    "print(f\"Проверка ключа: 'salary' in person = {'salary' in person}\")\n",
    "\n",
    "# Безопасный доступ\n",
    "print(f\"get('age'): {person.get('age')}\")\n",
    "print(f\"get('salary'): {person.get('salary')}\")\n",
    "print(f\"get('salary', 'Не указано'): {person.get('salary', 'Не указано')}\")"
   ]
  },
  {
   "cell_type": "markdown",
   "metadata": {},
   "source": [
    "### 5.3 Изменяемость словарей\n",
    "\n",
    "Словари являются изменяемыми объектами. Мы можем изменять, добавлять и удалять элементы."
   ]
  },
  {
   "cell_type": "code",
   "execution_count": 1,
   "metadata": {},
   "outputs": [
    {
     "name": "stdout",
     "output_type": "stream",
     "text": [
      "Исходный словарь: {'name': 'Alice', 'age': 25}\n",
      "После добавления города: {'name': 'Alice', 'age': 25, 'city': 'Moscow'}\n",
      "После изменения возраста: {'name': 'Alice', 'age': 26, 'city': 'Moscow'}\n",
      "После удаления города: {'name': 'Alice', 'age': 26}\n",
      "После update(): {'name': 'Alice', 'age': 26, 'job': 'developer', 'salary': 50000}\n"
     ]
    }
   ],
   "source": [
    "# Демонстрация изменяемости словарей\n",
    "person = {\"name\": \"Alice\", \"age\": 25}\n",
    "print(f\"Исходный словарь: {person}\")\n",
    "\n",
    "# Добавление нового элемента\n",
    "person[\"city\"] = \"Moscow\"\n",
    "print(f\"После добавления города: {person}\")\n",
    "\n",
    "# Изменение существующего элемента\n",
    "person[\"age\"] = 26\n",
    "print(f\"После изменения возраста: {person}\")\n",
    "\n",
    "# Удаление элемента\n",
    "del person[\"city\"]\n",
    "print(f\"После удаления города: {person}\")\n",
    "\n",
    "# Обновление нескольких элементов\n",
    "person.update({\"job\": \"developer\", \"salary\": 50000})\n",
    "print(f\"После update(): {person}\")"
   ]
  },
  {
   "cell_type": "markdown",
   "metadata": {},
   "source": [
    "### 5.4 Ошибки доступа к словарям\n",
    "\n",
    "Попытка доступа к несуществующему ключу вызывает KeyError."
   ]
  },
  {
   "cell_type": "code",
   "execution_count": 4,
   "metadata": {},
   "outputs": [
    {
     "name": "stdout",
     "output_type": "stream",
     "text": [
      "Исходный словарь: {'name': 'Alice', 'age': 25}\n",
      "Доступ к существующему ключу: person['name'] = Alice\n"
     ]
    },
    {
     "ename": "KeyError",
     "evalue": "'salary'",
     "output_type": "error",
     "traceback": [
      "\u001b[31m---------------------------------------------------------------------------\u001b[39m",
      "\u001b[31mKeyError\u001b[39m                                  Traceback (most recent call last)",
      "\u001b[36mCell\u001b[39m\u001b[36m \u001b[39m\u001b[32mIn[4]\u001b[39m\u001b[32m, line 8\u001b[39m\n\u001b[32m      5\u001b[39m \u001b[38;5;28mprint\u001b[39m(\u001b[33mf\u001b[39m\u001b[33m\"\u001b[39m\u001b[33mДоступ к существующему ключу: person[\u001b[39m\u001b[33m'\u001b[39m\u001b[33mname\u001b[39m\u001b[33m'\u001b[39m\u001b[33m] = \u001b[39m\u001b[38;5;132;01m{\u001b[39;00mperson[\u001b[33m'\u001b[39m\u001b[33mname\u001b[39m\u001b[33m'\u001b[39m]\u001b[38;5;132;01m}\u001b[39;00m\u001b[33m\"\u001b[39m)\n\u001b[32m      7\u001b[39m \u001b[38;5;66;03m# Попытка доступа к несуществующему ключу\u001b[39;00m\n\u001b[32m----> \u001b[39m\u001b[32m8\u001b[39m \u001b[38;5;28mprint\u001b[39m(\u001b[33mf\u001b[39m\u001b[33m\"\u001b[39m\u001b[33mПопытка доступа к несуществующему ключу: person[\u001b[39m\u001b[33m'\u001b[39m\u001b[33msalary\u001b[39m\u001b[33m'\u001b[39m\u001b[33m] = \u001b[39m\u001b[38;5;132;01m{\u001b[39;00m\u001b[43mperson\u001b[49m\u001b[43m[\u001b[49m\u001b[33;43m'\u001b[39;49m\u001b[33;43msalary\u001b[39;49m\u001b[33;43m'\u001b[39;49m\u001b[43m]\u001b[49m\u001b[38;5;132;01m}\u001b[39;00m\u001b[33m\"\u001b[39m)\n\u001b[32m     10\u001b[39m \u001b[38;5;66;03m# Безопасные способы доступа\u001b[39;00m\n\u001b[32m     11\u001b[39m \u001b[38;5;28mprint\u001b[39m(\u001b[33mf\u001b[39m\u001b[33m\"\u001b[39m\u001b[33mБезопасный доступ через get(): person.get(\u001b[39m\u001b[33m'\u001b[39m\u001b[33msalary\u001b[39m\u001b[33m'\u001b[39m\u001b[33m) = \u001b[39m\u001b[38;5;132;01m{\u001b[39;00mperson.get(\u001b[33m'\u001b[39m\u001b[33msalary\u001b[39m\u001b[33m'\u001b[39m)\u001b[38;5;132;01m}\u001b[39;00m\u001b[33m\"\u001b[39m)\n",
      "\u001b[31mKeyError\u001b[39m: 'salary'"
     ]
    }
   ],
   "source": [
    "# Демонстрация ошибок доступа к словарям\n",
    "person = {\"name\": \"Alice\", \"age\": 25}\n",
    "\n",
    "print(f\"Исходный словарь: {person}\")\n",
    "print(f\"Доступ к существующему ключу: person['name'] = {person['name']}\")\n",
    "\n",
    "# Попытка доступа к несуществующему ключу\n",
    "print(f\"Попытка доступа к несуществующему ключу: person['salary'] = {person['salary']}\")\n",
    "\n",
    "# Безопасные способы доступа\n",
    "print(f\"Безопасный доступ через get(): person.get('salary') = {person.get('salary')}\")\n",
    "print(f\"Безопасный доступ с значением по умолчанию: person.get('salary', 0) = {person.get('salary', 0)}\")"
   ]
  },
  {
   "cell_type": "markdown",
   "metadata": {},
   "source": [
    "### 5.5 Методы словарей\n",
    "\n",
    "Основные методы для работы со словарями."
   ]
  },
  {
   "cell_type": "code",
   "execution_count": 5,
   "metadata": {},
   "outputs": [
    {
     "name": "stdout",
     "output_type": "stream",
     "text": [
      "Исходный словарь: {'name': 'Alice', 'age': 25}\n",
      "Ключи: ['name', 'age']\n",
      "Значения: ['Alice', 25]\n",
      "Пары ключ-значение: [('name', 'Alice'), ('age', 25)]\n",
      "После добавления города: {'name': 'Alice', 'age': 25, 'city': 'Moscow'}\n",
      "После изменения возраста: {'name': 'Alice', 'age': 26, 'city': 'Moscow'}\n",
      "После pop('city'): {'name': 'Alice', 'age': 26}, удалено: Moscow\n"
     ]
    }
   ],
   "source": [
    "# Демонстрация методов словарей\n",
    "person = {\"name\": \"Alice\", \"age\": 25}\n",
    "\n",
    "print(f\"Исходный словарь: {person}\")\n",
    "print(f\"Ключи: {list(person.keys())}\")\n",
    "print(f\"Значения: {list(person.values())}\")\n",
    "print(f\"Пары ключ-значение: {list(person.items())}\")\n",
    "\n",
    "# Изменение словаря\n",
    "person[\"city\"] = \"Moscow\"\n",
    "print(f\"После добавления города: {person}\")\n",
    "\n",
    "person[\"age\"] = 26\n",
    "print(f\"После изменения возраста: {person}\")\n",
    "\n",
    "removed_value = person.pop(\"city\")\n",
    "print(f\"После pop('city'): {person}, удалено: {removed_value}\")"
   ]
  },
  {
   "cell_type": "markdown",
   "metadata": {},
   "source": [
    "### Задачи для практики (словари)"
   ]
  },
  {
   "cell_type": "markdown",
   "metadata": {},
   "source": [
    "**Задача 5.1:** Создайте словарь с информацией о книге и выведите ее"
   ]
  },
  {
   "cell_type": "code",
   "execution_count": 6,
   "metadata": {},
   "outputs": [
    {
     "name": "stdout",
     "output_type": "stream",
     "text": [
      "{'title': 'witcher', 'author': 'sapkowski', 'size': 307}\n"
     ]
    }
   ],
   "source": [
    "# Решение задачи 5.1\n",
    "my_dict = {\"title\": \"witcher\", \"author\": \"sapkowski\", \"size\": 307}\n",
    "print(my_dict)"
   ]
  },
  {
   "cell_type": "markdown",
   "metadata": {},
   "source": [
    "**Задача 5.2:** Напишите программу, которая добавляет новый элемент в словарь"
   ]
  },
  {
   "cell_type": "code",
   "execution_count": 7,
   "metadata": {},
   "outputs": [
    {
     "name": "stdout",
     "output_type": "stream",
     "text": [
      "{'title': 'witcher', 'author': 'sapkowski', 'size': 307, 'Price': 500}\n"
     ]
    }
   ],
   "source": [
    "# Решение задачи 5.2\n",
    "my_dict = {\"title\": \"witcher\", \"author\": \"sapkowski\", \"size\": 307}\n",
    "my_dict[\"Price\"] = 500\n",
    "print(my_dict)"
   ]
  },
  {
   "cell_type": "markdown",
   "metadata": {},
   "source": [
    "**Задача 5.3:** Создайте программу, которая выводит все ключи словаря"
   ]
  },
  {
   "cell_type": "code",
   "execution_count": 8,
   "metadata": {},
   "outputs": [
    {
     "name": "stdout",
     "output_type": "stream",
     "text": [
      "dict_keys(['title', 'author', 'size', 'Price'])\n"
     ]
    }
   ],
   "source": [
    "# Решение задачи 5.3\n",
    "my_dict = {\"title\": \"witcher\", \"author\": \"sapkowski\", \"size\": 307, \"Price\": 500}\n",
    "print(my_dict.keys())"
   ]
  },
  {
   "cell_type": "markdown",
   "metadata": {},
   "source": [
    "**Задача 5.4:** Напишите программу, которая проверяет наличие ключа в словаре"
   ]
  },
  {
   "cell_type": "code",
   "execution_count": 11,
   "metadata": {},
   "outputs": [
    {
     "name": "stdout",
     "output_type": "stream",
     "text": [
      "True\n"
     ]
    }
   ],
   "source": [
    "# Решение задачи 5.4\n",
    "my_dict = {\"title\": \"witcher\", \"author\": \"sapkowski\", \"size\": 307, \"Price\": 500}\n",
    "print(\"author\" in my_dict)"
   ]
  },
  {
   "cell_type": "markdown",
   "metadata": {},
   "source": [
    "**Задача 5.5:** Создайте программу, которая объединяет два словаря"
   ]
  },
  {
   "cell_type": "code",
   "execution_count": 13,
   "metadata": {},
   "outputs": [
    {
     "name": "stdout",
     "output_type": "stream",
     "text": [
      "{'title': 'witcher', 'author': 'sapkowski', 'size': 307, 'Price': 500}\n"
     ]
    }
   ],
   "source": [
    "# Решение задачи 5.5\n",
    "my_dict = {\"title\": \"witcher\", \"author\": \"sapkowski\"}\n",
    "my_dict1 = {\"size\": 307, \"Price\": 500}\n",
    "my_dict.update(my_dict1)\n",
    "print(my_dict)"
   ]
  },
  {
   "cell_type": "markdown",
   "metadata": {},
   "source": [
    "**Задача 5.6:** Создайте программу, которая безопасно получает значение из словаря с значением по умолчанию"
   ]
  },
  {
   "cell_type": "code",
   "execution_count": 16,
   "metadata": {},
   "outputs": [
    {
     "name": "stdout",
     "output_type": "stream",
     "text": [
      "Unknown\n"
     ]
    }
   ],
   "source": [
    "# Решение задачи 5.6\n",
    "my_dict = {\"title\": \"witcher\", \"author\": \"sapkowski\", \"size\": 307, \"Price\": 500}\n",
    "print(my_dict.get(\"publisher\", \"Unknown\"))"
   ]
  },
  {
   "cell_type": "markdown",
   "metadata": {},
   "source": [
    "<a id=\"6\"></a>\n",
    "## 6. Базовые типы данных (множества)"
   ]
  },
  {
   "cell_type": "markdown",
   "metadata": {},
   "source": [
    "### 6.1 Создание множеств\n",
    "\n",
    "Множества - неупорядоченные коллекции уникальных элементов."
   ]
  },
  {
   "cell_type": "code",
   "execution_count": 17,
   "metadata": {},
   "outputs": [
    {
     "name": "stdout",
     "output_type": "stream",
     "text": [
      "set1: {1, 2, 3, 4, 5}\n",
      "set2: {3, 4, 5, 6, 7}\n",
      "set3: {'l', 'e', 'o', 'h'}\n",
      "set4: set()\n"
     ]
    }
   ],
   "source": [
    "# Разные способы создания множеств\n",
    "set1 = {1, 2, 3, 4, 5}                    # Литерал\n",
    "set2 = set([3, 4, 5, 6, 7])               # Из списка\n",
    "set3 = set(\"hello\")                       # Из строки\n",
    "set4 = set()                              # Пустое множество\n",
    "\n",
    "print(\"set1:\", set1)\n",
    "print(\"set2:\", set2)\n",
    "print(\"set3:\", set3)\n",
    "print(\"set4:\", set4)"
   ]
  },
  {
   "cell_type": "markdown",
   "metadata": {},
   "source": [
    "### 6.2 Особенности множеств\n",
    "\n",
    "Множества автоматически удаляют дубликаты и не сохраняют порядок элементов."
   ]
  },
  {
   "cell_type": "code",
   "execution_count": 18,
   "metadata": {},
   "outputs": [
    {
     "name": "stdout",
     "output_type": "stream",
     "text": [
      "Множество с дубликатами: {1, 2, 3, 4}\n",
      "Множество из строки: {'g', 'a', 'p', 'o', 'm', 'n', 'r', 'i'}\n",
      "Пустое множество: set()\n",
      "Пустой словарь: {}, тип: <class 'dict'>\n"
     ]
    }
   ],
   "source": [
    "# Демонстрация особенностей множеств\n",
    "duplicates = {1, 2, 2, 3, 3, 3, 4, 4, 4, 4}\n",
    "string_set = set(\"programming\")\n",
    "empty_set = set()\n",
    "\n",
    "print(f\"Множество с дубликатами: {duplicates}\")\n",
    "print(f\"Множество из строки: {string_set}\")\n",
    "print(f\"Пустое множество: {empty_set}\")\n",
    "\n",
    "# Важно: {} создает словарь, а не множество!\n",
    "empty_dict = {}\n",
    "print(f\"Пустой словарь: {empty_dict}, тип: {type(empty_dict)}\")"
   ]
  },
  {
   "cell_type": "markdown",
   "metadata": {},
   "source": [
    "### 6.3 Изменяемость множеств\n",
    "\n",
    "Множества являются изменяемыми объектами. Мы можем добавлять и удалять элементы."
   ]
  },
  {
   "cell_type": "code",
   "execution_count": 19,
   "metadata": {},
   "outputs": [
    {
     "name": "stdout",
     "output_type": "stream",
     "text": [
      "Исходное множество: {1, 2, 3}\n",
      "После add(4): {1, 2, 3, 4}\n",
      "После update([5, 6, 7]): {1, 2, 3, 4, 5, 6, 7}\n",
      "После remove(4): {1, 2, 3, 5, 6, 7}\n",
      "После discard(10): {1, 2, 3, 5, 6, 7}\n",
      "После pop(): {2, 3, 5, 6, 7}, удален: 1\n"
     ]
    }
   ],
   "source": [
    "# Демонстрация изменяемости множеств\n",
    "my_set = {1, 2, 3}\n",
    "print(f\"Исходное множество: {my_set}\")\n",
    "\n",
    "# Добавление элементов\n",
    "my_set.add(4)\n",
    "print(f\"После add(4): {my_set}\")\n",
    "\n",
    "my_set.update([5, 6, 7])\n",
    "print(f\"После update([5, 6, 7]): {my_set}\")\n",
    "\n",
    "# Удаление элементов\n",
    "my_set.remove(4)\n",
    "print(f\"После remove(4): {my_set}\")\n",
    "\n",
    "my_set.discard(10)  # Не вызывает ошибку\n",
    "print(f\"После discard(10): {my_set}\")\n",
    "\n",
    "popped = my_set.pop()\n",
    "print(f\"После pop(): {my_set}, удален: {popped}\")"
   ]
  },
  {
   "cell_type": "markdown",
   "metadata": {},
   "source": [
    "### 6.4 Операции с множествами\n",
    "\n",
    "| Операция | Метод | Описание |\n",
    "|----------|--------|----------|\n",
    "| `|` | `union()` | Объединение |\n",
    "| `&` | `intersection()` | Пересечение |\n",
    "| `-` | `difference()` | Разность |\n",
    "| `^` | `symmetric_difference()` | Симметрическая разность |"
   ]
  },
  {
   "cell_type": "code",
   "execution_count": 20,
   "metadata": {},
   "outputs": [
    {
     "name": "stdout",
     "output_type": "stream",
     "text": [
      "Множество A: {1, 2, 3, 4, 5}\n",
      "Множество B: {4, 5, 6, 7, 8}\n",
      "Объединение (A | B): {1, 2, 3, 4, 5, 6, 7, 8}\n",
      "Пересечение (A & B): {4, 5}\n",
      "Разность (A - B): {1, 2, 3}\n",
      "Симметрическая разность (A ^ B): {1, 2, 3, 6, 7, 8}\n"
     ]
    }
   ],
   "source": [
    "# Демонстрация операций с множествами\n",
    "A = {1, 2, 3, 4, 5}\n",
    "B = {4, 5, 6, 7, 8}\n",
    "\n",
    "print(f\"Множество A: {A}\")\n",
    "print(f\"Множество B: {B}\")\n",
    "print(f\"Объединение (A | B): {A | B}\")\n",
    "print(f\"Пересечение (A & B): {A & B}\")\n",
    "print(f\"Разность (A - B): {A - B}\")\n",
    "print(f\"Симметрическая разность (A ^ B): {A ^ B}\")"
   ]
  },
  {
   "cell_type": "markdown",
   "metadata": {},
   "source": [
    "### 6.5 Ошибки доступа к множествам\n",
    "\n",
    "Множества не поддерживают индексацию, так как они неупорядочены."
   ]
  },
  {
   "cell_type": "code",
   "execution_count": 21,
   "metadata": {},
   "outputs": [
    {
     "name": "stdout",
     "output_type": "stream",
     "text": [
      "Множество: {1, 2, 3}\n",
      "Проверка наличия элемента: 2 in my_set = True\n"
     ]
    },
    {
     "ename": "TypeError",
     "evalue": "'set' object is not subscriptable",
     "output_type": "error",
     "traceback": [
      "\u001b[31m---------------------------------------------------------------------------\u001b[39m",
      "\u001b[31mTypeError\u001b[39m                                 Traceback (most recent call last)",
      "\u001b[36mCell\u001b[39m\u001b[36m \u001b[39m\u001b[32mIn[21]\u001b[39m\u001b[32m, line 8\u001b[39m\n\u001b[32m      5\u001b[39m \u001b[38;5;28mprint\u001b[39m(\u001b[33mf\u001b[39m\u001b[33m\"\u001b[39m\u001b[33mПроверка наличия элемента: 2 in my_set = \u001b[39m\u001b[38;5;132;01m{\u001b[39;00m\u001b[32m2\u001b[39m\u001b[38;5;250m \u001b[39m\u001b[38;5;129;01min\u001b[39;00m\u001b[38;5;250m \u001b[39mmy_set\u001b[38;5;132;01m}\u001b[39;00m\u001b[33m\"\u001b[39m)\n\u001b[32m      7\u001b[39m \u001b[38;5;66;03m# Попытка доступа по индексу\u001b[39;00m\n\u001b[32m----> \u001b[39m\u001b[32m8\u001b[39m \u001b[38;5;28mprint\u001b[39m(\u001b[33mf\u001b[39m\u001b[33m\"\u001b[39m\u001b[33mПопытка доступа по индексу: my_set[0] = \u001b[39m\u001b[38;5;132;01m{\u001b[39;00m\u001b[43mmy_set\u001b[49m\u001b[43m[\u001b[49m\u001b[32;43m0\u001b[39;49m\u001b[43m]\u001b[49m\u001b[38;5;132;01m}\u001b[39;00m\u001b[33m\"\u001b[39m)\n\u001b[32m     10\u001b[39m \u001b[38;5;66;03m# Попытка удалить несуществующий элемент\u001b[39;00m\n\u001b[32m     11\u001b[39m my_set.remove(\u001b[32m10\u001b[39m)\n",
      "\u001b[31mTypeError\u001b[39m: 'set' object is not subscriptable"
     ]
    }
   ],
   "source": [
    "# Демонстрация ошибок доступа к множествам\n",
    "my_set = {1, 2, 3}\n",
    "\n",
    "print(f\"Множество: {my_set}\")\n",
    "print(f\"Проверка наличия элемента: 2 in my_set = {2 in my_set}\")\n",
    "\n",
    "# Попытка доступа по индексу\n",
    "print(f\"Попытка доступа по индексу: my_set[0] = {my_set[0]}\")\n",
    "\n",
    "# Попытка удалить несуществующий элемент\n",
    "my_set.remove(10)\n",
    "print(f\"После remove(10): {my_set}\")\n",
    "\n",
    "# Безопасное удаление\n",
    "my_set.discard(10)  # Не вызывает ошибку\n",
    "print(f\"После discard(10): {my_set}\")"
   ]
  },
  {
   "cell_type": "markdown",
   "metadata": {},
   "source": [
    "### 6.6 Методы множеств\n",
    "\n",
    "Основные методы для работы с множествами."
   ]
  },
  {
   "cell_type": "code",
   "execution_count": 22,
   "metadata": {},
   "outputs": [
    {
     "name": "stdout",
     "output_type": "stream",
     "text": [
      "Исходное множество: {1, 2, 3}\n",
      "После add(4): {1, 2, 3, 4}\n",
      "После update([5, 6, 7]): {1, 2, 3, 4, 5, 6, 7}\n",
      "После remove(4): {1, 2, 3, 5, 6, 7}\n",
      "После discard(10): {1, 2, 3, 5, 6, 7}\n",
      "После pop(): {2, 3, 5, 6, 7}, удален: 1\n",
      "После clear(): set()\n"
     ]
    }
   ],
   "source": [
    "# Демонстрация методов множеств\n",
    "s = {1, 2, 3}\n",
    "\n",
    "print(f\"Исходное множество: {s}\")\n",
    "\n",
    "s.add(4)\n",
    "print(f\"После add(4): {s}\")\n",
    "\n",
    "s.update([5, 6, 7])\n",
    "print(f\"После update([5, 6, 7]): {s}\")\n",
    "\n",
    "s.remove(4)\n",
    "print(f\"После remove(4): {s}\")\n",
    "\n",
    "s.discard(10)  # Не вызывает ошибку если элемента нет\n",
    "print(f\"После discard(10): {s}\")\n",
    "\n",
    "popped = s.pop()\n",
    "print(f\"После pop(): {s}, удален: {popped}\")\n",
    "\n",
    "s.clear()\n",
    "print(f\"После clear(): {s}\")"
   ]
  },
  {
   "cell_type": "markdown",
   "metadata": {},
   "source": [
    "### Задачи для практики (множества)"
   ]
  },
  {
   "cell_type": "markdown",
   "metadata": {},
   "source": [
    "**Задача 6.1:** Создайте множество и добавьте в него новый элемент"
   ]
  },
  {
   "cell_type": "code",
   "execution_count": 23,
   "metadata": {},
   "outputs": [
    {
     "name": "stdout",
     "output_type": "stream",
     "text": [
      "{1, 2, 3, 4, 5, 6}\n"
     ]
    }
   ],
   "source": [
    "# Решение задачи 6.1\n",
    "my_set = {1, 2, 3, 4, 5}\n",
    "my_set.add(6)\n",
    "print(my_set)"
   ]
  },
  {
   "cell_type": "markdown",
   "metadata": {},
   "source": [
    "**Задача 6.2:** Напишите программу, которая находит общие элементы двух множеств"
   ]
  },
  {
   "cell_type": "code",
   "execution_count": 24,
   "metadata": {},
   "outputs": [
    {
     "name": "stdout",
     "output_type": "stream",
     "text": [
      "{4, 5}\n"
     ]
    }
   ],
   "source": [
    "# Решение задачи 6.2\n",
    "my_set = {1, 2, 3, 4, 5}\n",
    "my_set_2 = {4, 5, 6, 7, 8}\n",
    "print(my_set & my_set_2)"
   ]
  },
  {
   "cell_type": "markdown",
   "metadata": {},
   "source": [
    "**Задача 6.3:** Создайте программу, которая удаляет дубликаты из списка с помощью множества"
   ]
  },
  {
   "cell_type": "code",
   "execution_count": 27,
   "metadata": {},
   "outputs": [
    {
     "name": "stdout",
     "output_type": "stream",
     "text": [
      "{1, 2, 3, 4, 5}\n"
     ]
    }
   ],
   "source": [
    "# Решение задачи 6.3\n",
    "my_list = {1, 2, 3, 3, 4, 4, 5}\n",
    "my_set = set(my_list)\n",
    "print(my_set)"
   ]
  },
  {
   "cell_type": "markdown",
   "metadata": {},
   "source": [
    "**Задача 6.4:** Напишите программу, которая проверяет, является ли одно множество подмножеством другого"
   ]
  },
  {
   "cell_type": "code",
   "execution_count": 29,
   "metadata": {},
   "outputs": [
    {
     "name": "stdout",
     "output_type": "stream",
     "text": [
      "False\n"
     ]
    }
   ],
   "source": [
    "# Решение задачи 6.4\n",
    "my_set = {1, 2, 3, 4, 5}\n",
    "my_set_2 = {2, 3, 4}\n",
    "print(my_set.issuperset(my_set_2))"
   ]
  },
  {
   "cell_type": "markdown",
   "metadata": {},
   "source": [
    "**Задача 6.5:** Создайте программу, которая находит элементы, которые есть только в одном из двух множеств"
   ]
  },
  {
   "cell_type": "code",
   "execution_count": 31,
   "metadata": {},
   "outputs": [
    {
     "name": "stdout",
     "output_type": "stream",
     "text": [
      "{1, 4, 5}\n"
     ]
    }
   ],
   "source": [
    "# Решение задачи 6.5\n",
    "my_set = {1, 2, 3, 4, 5}\n",
    "my_set_2 = {2, 3}\n",
    "print(my_set ^ my_set_2)"
   ]
  },
  {
   "cell_type": "markdown",
   "metadata": {},
   "source": [
    "**Задача 6.6:** Напишите программу, которая пытается получить элемент множества по индексу"
   ]
  },
  {
   "cell_type": "code",
   "execution_count": 32,
   "metadata": {},
   "outputs": [
    {
     "ename": "TypeError",
     "evalue": "'set' object is not subscriptable",
     "output_type": "error",
     "traceback": [
      "\u001b[31m---------------------------------------------------------------------------\u001b[39m",
      "\u001b[31mTypeError\u001b[39m                                 Traceback (most recent call last)",
      "\u001b[36mCell\u001b[39m\u001b[36m \u001b[39m\u001b[32mIn[32]\u001b[39m\u001b[32m, line 3\u001b[39m\n\u001b[32m      1\u001b[39m \u001b[38;5;66;03m# Решение задачи 6.6\u001b[39;00m\n\u001b[32m      2\u001b[39m my_set = {\u001b[32m1\u001b[39m, \u001b[32m2\u001b[39m, \u001b[32m3\u001b[39m, \u001b[32m4\u001b[39m, \u001b[32m5\u001b[39m}\n\u001b[32m----> \u001b[39m\u001b[32m3\u001b[39m \u001b[38;5;28mprint\u001b[39m(\u001b[43mmy_set\u001b[49m\u001b[43m[\u001b[49m\u001b[32;43m1\u001b[39;49m\u001b[43m]\u001b[49m)\n",
      "\u001b[31mTypeError\u001b[39m: 'set' object is not subscriptable"
     ]
    }
   ],
   "source": [
    "# Решение задачи 6.6\n",
    "my_set = {1, 2, 3, 4, 5}\n",
    "print(my_set[1])"
   ]
  },
  {
   "cell_type": "markdown",
   "metadata": {},
   "source": [
    "<a id=\"7\"></a>\n",
    "## 7. Условные операторы"
   ]
  },
  {
   "cell_type": "markdown",
   "metadata": {},
   "source": [
    "### 7.1 Базовый оператор if\n",
    "\n",
    "Оператор `if` выполняет код, если условие истинно."
   ]
  },
  {
   "cell_type": "code",
   "execution_count": 33,
   "metadata": {},
   "outputs": [
    {
     "name": "stdout",
     "output_type": "stream",
     "text": [
      "Вы совершеннолетний\n",
      "Не жарко\n"
     ]
    }
   ],
   "source": [
    "# Простой оператор if\n",
    "age = 18\n",
    "\n",
    "if age >= 18:\n",
    "    print(\"Вы совершеннолетний\")\n",
    "\n",
    "# Оператор if-else\n",
    "temperature = 25\n",
    "\n",
    "if temperature > 30:\n",
    "    print(\"Жарко\")\n",
    "else:\n",
    "    print(\"Не жарко\")"
   ]
  },
  {
   "cell_type": "markdown",
   "metadata": {},
   "source": [
    "### 7.2 Множественные условия (elif)\n",
    "\n",
    "Оператор `elif` позволяет проверять несколько условий."
   ]
  },
  {
   "cell_type": "code",
   "execution_count": 34,
   "metadata": {},
   "outputs": [
    {
     "name": "stdout",
     "output_type": "stream",
     "text": [
      "Хорошо!\n"
     ]
    }
   ],
   "source": [
    "# Оператор if-elif-else\n",
    "score = 85\n",
    "\n",
    "if score >= 90:\n",
    "    print(\"Отлично!\")\n",
    "elif score >= 75:\n",
    "    print(\"Хорошо!\")\n",
    "elif score >= 60:\n",
    "    print(\"Удовлетворительно\")\n",
    "else:\n",
    "    print(\"Неудовлетворительно\")"
   ]
  },
  {
   "cell_type": "markdown",
   "metadata": {},
   "source": [
    "### 7.3 Логические операторы\n",
    "\n",
    "| Оператор | Описание | Пример |\n",
    "|----------|----------|---------|\n",
    "| `and` | Логическое И | `a > 0 and b > 0` |\n",
    "| `or` | Логическое ИЛИ | `a > 0 or b > 0` |\n",
    "| `not` | Логическое НЕ | `not a > 0` |"
   ]
  },
  {
   "cell_type": "code",
   "execution_count": 35,
   "metadata": {},
   "outputs": [
    {
     "name": "stdout",
     "output_type": "stream",
     "text": [
      "Можно водить машину\n",
      "Число делится на 3 и 5\n"
     ]
    }
   ],
   "source": [
    "# Демонстрация логических операторов\n",
    "age = 25\n",
    "has_license = True\n",
    "\n",
    "if age >= 18 and has_license:\n",
    "    print(\"Можно водить машину\")\n",
    "else:\n",
    "    print(\"Нельзя водить машину\")\n",
    "\n",
    "# Сложное условие\n",
    "number = 15\n",
    "\n",
    "if (number % 3 == 0 and number % 5 == 0):\n",
    "    print(\"Число делится на 3 и 5\")\n",
    "elif number % 3 == 0:\n",
    "    print(\"Число делится на 3\")\n",
    "elif number % 5 == 0:\n",
    "    print(\"Число делится на 5\")\n",
    "else:\n",
    "    print(\"Число не делится на 3 или 5\")"
   ]
  },
  {
   "cell_type": "markdown",
   "metadata": {},
   "source": [
    "### Задачи для практики (условные операторы)"
   ]
  },
  {
   "cell_type": "markdown",
   "metadata": {},
   "source": [
    "**Задача 7.1:** Напишите программу, которая проверяет, является ли число четным"
   ]
  },
  {
   "cell_type": "code",
   "execution_count": 36,
   "metadata": {},
   "outputs": [
    {
     "name": "stdout",
     "output_type": "stream",
     "text": [
      "Even\n"
     ]
    }
   ],
   "source": [
    "# Решение задачи 7.1\n",
    "num = int(input())\n",
    "if num % 2 == 0:\n",
    "    print(\"Even\")\n",
    "else:\n",
    "    print(\"Odd\")"
   ]
  },
  {
   "cell_type": "markdown",
   "metadata": {},
   "source": [
    "**Задача 7.2:** Создайте программу, которая определяет, является ли год високосным"
   ]
  },
  {
   "cell_type": "code",
   "execution_count": 37,
   "metadata": {},
   "outputs": [
    {
     "name": "stdout",
     "output_type": "stream",
     "text": [
      "Високосный\n"
     ]
    }
   ],
   "source": [
    "# Решение задачи 7.2\n",
    "num = int(input())\n",
    "if num % 400 == 0 or (num % 4 == 0 and num % 100 != 0):\n",
    "    print(\"Високосный\")\n",
    "else:\n",
    "    print(\"Не високосный\")"
   ]
  },
  {
   "cell_type": "markdown",
   "metadata": {},
   "source": [
    "**Задача 7.3:** Напишите программу, которая находит максимальное из трех чисел"
   ]
  },
  {
   "cell_type": "code",
   "execution_count": 39,
   "metadata": {},
   "outputs": [
    {
     "name": "stdout",
     "output_type": "stream",
     "text": [
      "4\n"
     ]
    }
   ],
   "source": [
    "# Решение задачи 7.3\n",
    "num1 = int(input())\n",
    "num2 = int(input())\n",
    "num3 = int(input())\n",
    "if num1 >= num2 and num1 >= num3:\n",
    "    print(num1)\n",
    "elif num2 >= num1 and num2 >= num3:\n",
    "    print(num2)\n",
    "else:\n",
    "    print(num3)"
   ]
  },
  {
   "cell_type": "markdown",
   "metadata": {},
   "source": [
    "**Задача 7.4:** Создайте программу, которая проверяет, является ли строка пустой"
   ]
  },
  {
   "cell_type": "code",
   "execution_count": 41,
   "metadata": {},
   "outputs": [
    {
     "name": "stdout",
     "output_type": "stream",
     "text": [
      "Not Empty\n"
     ]
    }
   ],
   "source": [
    "# Решение задачи 7.4\n",
    "st = input()\n",
    "if not st:\n",
    "    print(\"Empty\")\n",
    "else:\n",
    "    print(\"Not Empty\")"
   ]
  },
  {
   "cell_type": "markdown",
   "metadata": {},
   "source": [
    "**Задача 7.5:** Напишите программу, которая определяет время суток по часу"
   ]
  },
  {
   "cell_type": "code",
   "execution_count": 43,
   "metadata": {},
   "outputs": [
    {
     "name": "stdout",
     "output_type": "stream",
     "text": [
      "Morning\n"
     ]
    }
   ],
   "source": [
    "# Решение задачи 7.5\n",
    "num = int(input())\n",
    "if num >= 22 and num <= 24 or (num >= 0 and num <= 4):\n",
    "    print(\"Night\")\n",
    "elif num >= 5 and num <= 11:\n",
    "    print(\"Morning\")\n",
    "elif num >= 12 and num <= 16:\n",
    "    print(\"Afternoon\")\n",
    "elif num >= 17 and num <= 21:\n",
    "    print(\"Evening\")\n",
    "else:\n",
    "    print(\"Error\")"
   ]
  },
  {
   "cell_type": "markdown",
   "metadata": {},
   "source": [
    "<a id=\"8\"></a>\n",
    "## 8. Циклы"
   ]
  },
  {
   "cell_type": "markdown",
   "metadata": {},
   "source": [
    "### 8.1 Цикл for\n",
    "\n",
    "Цикл `for` используется для итерации по последовательностям."
   ]
  },
  {
   "cell_type": "code",
   "execution_count": 42,
   "metadata": {},
   "outputs": [
    {
     "name": "stdout",
     "output_type": "stream",
     "text": [
      "Цикл for по списку:\n",
      "Фрукт: apple\n",
      "Фрукт: banana\n",
      "Фрукт: cherry\n",
      "\n",
      "Цикл for с range():\n",
      "i = 0\n",
      "i = 1\n",
      "i = 2\n",
      "i = 3\n",
      "i = 4\n",
      "\n",
      "Цикл for с enumerate():\n",
      "Индекс: 0, Фрукт: apple\n",
      "Индекс: 1, Фрукт: banana\n",
      "Индекс: 2, Фрукт: cherry\n"
     ]
    }
   ],
   "source": [
    "# Цикл for по списку\n",
    "fruits = [\"apple\", \"banana\", \"cherry\"]\n",
    "\n",
    "print(\"Цикл for по списку:\")\n",
    "for fruit in fruits:\n",
    "    print(f\"Фрукт: {fruit}\")\n",
    "\n",
    "# Цикл for с range\n",
    "print(\"\\nЦикл for с range():\")\n",
    "for i in range(5):\n",
    "    print(f\"i = {i}\")\n",
    "\n",
    "# Цикл for с enumerate\n",
    "print(\"\\nЦикл for с enumerate():\")\n",
    "for index, fruit in enumerate(fruits):\n",
    "    print(f\"Индекс: {index}, Фрукт: {fruit}\")"
   ]
  },
  {
   "cell_type": "markdown",
   "metadata": {},
   "source": [
    "### 8.2 Цикл while\n",
    "\n",
    "Цикл `while` выполняется, пока условие истинно."
   ]
  },
  {
   "cell_type": "code",
   "execution_count": 44,
   "metadata": {},
   "outputs": [
    {
     "name": "stdout",
     "output_type": "stream",
     "text": [
      "Цикл while:\n",
      "Осталось: 5\n",
      "Осталось: 4\n",
      "Осталось: 3\n",
      "Осталось: 2\n",
      "Осталось: 1\n",
      "\n",
      "Цикл while с break:\n",
      "0\n",
      "1\n",
      "2\n",
      "3\n",
      "4\n"
     ]
    }
   ],
   "source": [
    "# Простой цикл while\n",
    "count = 5\n",
    "\n",
    "print(\"Цикл while:\")\n",
    "while count > 0:\n",
    "    print(f\"Осталось: {count}\")\n",
    "    count -= 1\n",
    "\n",
    "# Бесконечный цикл с break\n",
    "print(\"\\nЦикл while с break:\")\n",
    "number = 0\n",
    "while True:\n",
    "    print(number)\n",
    "    number += 1\n",
    "    if number >= 5:\n",
    "        break"
   ]
  },
  {
   "cell_type": "markdown",
   "metadata": {},
   "source": [
    "### 8.3 Операторы break и continue\n",
    "\n",
    "- `break` - прерывает выполнение цикла\n",
    "- `continue` - переходит к следующей итерации"
   ]
  },
  {
   "cell_type": "code",
   "execution_count": 45,
   "metadata": {},
   "outputs": [
    {
     "name": "stdout",
     "output_type": "stream",
     "text": [
      "break и continue:\n",
      "i = 0\n",
      "i = 1\n",
      "i = 2\n",
      "i = 4\n",
      "i = 5\n",
      "i = 6\n"
     ]
    }
   ],
   "source": [
    "# Демонстрация break и continue\n",
    "print(\"break и continue:\")\n",
    "\n",
    "for i in range(10):\n",
    "    if i == 3:\n",
    "        continue  # Пропустить 3\n",
    "    if i == 7:\n",
    "        break     # Выйти на 7\n",
    "    print(f\"i = {i}\")"
   ]
  },
  {
   "cell_type": "markdown",
   "metadata": {},
   "source": [
    "### 8.4 Оператор else в циклах\n",
    "\n",
    "Блок `else` выполняется после завершения цикла, если он не был прерван оператором `break`."
   ]
  },
  {
   "cell_type": "code",
   "execution_count": 46,
   "metadata": {},
   "outputs": [
    {
     "name": "stdout",
     "output_type": "stream",
     "text": [
      "Цикл for с else (без break):\n",
      "i = 0\n",
      "i = 1\n",
      "i = 2\n",
      "Цикл завершен без break\n",
      "\n",
      "Цикл for с else (с break):\n",
      "i = 0\n",
      "i = 1\n",
      "i = 2\n",
      "Прерывание цикла\n",
      "\n",
      "Цикл while с else:\n",
      "count = 3\n",
      "count = 2\n",
      "count = 1\n",
      "Цикл while завершен\n"
     ]
    }
   ],
   "source": [
    "# Демонстрация else в циклах\n",
    "print(\"Цикл for с else (без break):\")\n",
    "for i in range(3):\n",
    "    print(f\"i = {i}\")\n",
    "else:\n",
    "    print(\"Цикл завершен без break\")\n",
    "\n",
    "print(\"\\nЦикл for с else (с break):\")\n",
    "for i in range(5):\n",
    "    if i == 3:\n",
    "        print(\"Прерывание цикла\")\n",
    "        break\n",
    "    print(f\"i = {i}\")\n",
    "else:\n",
    "    print(\"Этот блок не выполнится из-за break\")\n",
    "\n",
    "print(\"\\nЦикл while с else:\")\n",
    "count = 3\n",
    "while count > 0:\n",
    "    print(f\"count = {count}\")\n",
    "    count -= 1\n",
    "else:\n",
    "    print(\"Цикл while завершен\")"
   ]
  },
  {
   "cell_type": "markdown",
   "metadata": {},
   "source": [
    "### Задачи для практики (циклы)"
   ]
  },
  {
   "cell_type": "markdown",
   "metadata": {},
   "source": [
    "**Задача 8.1:** Напишите программу, которая вычисляет факториал числа"
   ]
  },
  {
   "cell_type": "code",
   "execution_count": 54,
   "metadata": {},
   "outputs": [
    {
     "ename": "ValueError",
     "evalue": "invalid literal for int() with base 10: ''",
     "output_type": "error",
     "traceback": [
      "\u001b[31m---------------------------------------------------------------------------\u001b[39m",
      "\u001b[31mValueError\u001b[39m                                Traceback (most recent call last)",
      "\u001b[36mCell\u001b[39m\u001b[36m \u001b[39m\u001b[32mIn[54]\u001b[39m\u001b[32m, line 2\u001b[39m\n\u001b[32m      1\u001b[39m \u001b[38;5;66;03m# Решение задачи 8.1\u001b[39;00m\n\u001b[32m----> \u001b[39m\u001b[32m2\u001b[39m n = \u001b[38;5;28;43mint\u001b[39;49m\u001b[43m(\u001b[49m\u001b[38;5;28;43minput\u001b[39;49m\u001b[43m(\u001b[49m\u001b[43m)\u001b[49m\u001b[43m)\u001b[49m\n\u001b[32m      3\u001b[39m factorial = \u001b[32m1\u001b[39m\n\u001b[32m      4\u001b[39m \u001b[38;5;28;01mfor\u001b[39;00m i \u001b[38;5;129;01min\u001b[39;00m \u001b[38;5;28mrange\u001b[39m(\u001b[32m1\u001b[39m, n + \u001b[32m1\u001b[39m):\n",
      "\u001b[31mValueError\u001b[39m: invalid literal for int() with base 10: ''"
     ]
    }
   ],
   "source": [
    "# Решение задачи 8.1\n",
    "n = int(input())\n",
    "factorial = 1\n",
    "for i in range(1, n + 1):\n",
    "    factorial *= i\n",
    "print(factorial)"
   ]
  },
  {
   "cell_type": "markdown",
   "metadata": {},
   "source": [
    "**Задача 8.2:** Создайте программу, которая выводит таблицу умножения"
   ]
  },
  {
   "cell_type": "code",
   "execution_count": null,
   "metadata": {},
   "outputs": [
    {
     "name": "stdout",
     "output_type": "stream",
     "text": [
      "5 * 1 = 5\n",
      "5 * 2 = 10\n",
      "5 * 3 = 15\n",
      "5 * 4 = 20\n",
      "5 * 5 = 25\n",
      "5 * 6 = 30\n",
      "5 * 7 = 35\n",
      "5 * 8 = 40\n",
      "5 * 9 = 45\n",
      "5 * 10 = 50\n"
     ]
    }
   ],
   "source": [
    "# Решение задачи 8.2\n",
    "n = int(input())\n",
    "for i in range(1, 11):\n",
    "    print (f\"{n} * {i} = {n * i}\")"
   ]
  },
  {
   "cell_type": "markdown",
   "metadata": {},
   "source": [
    "**Задача 8.3:** Напишите программу, которая суммирует все числа от 1 до N"
   ]
  },
  {
   "cell_type": "code",
   "execution_count": null,
   "metadata": {},
   "outputs": [
    {
     "name": "stdout",
     "output_type": "stream",
     "text": [
      "15\n"
     ]
    }
   ],
   "source": [
    "# Решение задачи 8.3\n",
    "n = int(input())\n",
    "sum = 0\n",
    "for i in range(1, n + 1):\n",
    "    sum += i\n",
    "print(sum)"
   ]
  },
  {
   "cell_type": "markdown",
   "metadata": {},
   "source": [
    "**Задача 8.4:** Создайте программу, которая находит все делители числа"
   ]
  },
  {
   "cell_type": "code",
   "execution_count": 55,
   "metadata": {},
   "outputs": [
    {
     "name": "stdout",
     "output_type": "stream",
     "text": [
      "[2, 5]\n"
     ]
    }
   ],
   "source": [
    "# Решение задачи 8.4\n",
    "n = int(input())\n",
    "result = []\n",
    "i = 2\n",
    "while i*i <= n:\n",
    "    if n % i == 0:\n",
    "        n //= i\n",
    "        result.append(i)\n",
    "    else:\n",
    "        i += 1\n",
    "if n > 1:\n",
    "    result.append(n)\n",
    "print(result)"
   ]
  },
  {
   "cell_type": "markdown",
   "metadata": {},
   "source": [
    "**Задача 8.5:** Напишите программу, которая выводит числа Фибоначчи до N"
   ]
  },
  {
   "cell_type": "code",
   "execution_count": 57,
   "metadata": {},
   "outputs": [
    {
     "name": "stdout",
     "output_type": "stream",
     "text": [
      "5\n"
     ]
    }
   ],
   "source": [
    "# Решение задачи 8.5\n",
    "n = int(input())\n",
    "fib = [1, 1]\n",
    "for i in range(2, n):\n",
    "    fib.append(fib[i-1] + fib[i-2])\n",
    "print(fib[n-1])"
   ]
  },
  {
   "cell_type": "markdown",
   "metadata": {},
   "source": [
    "**Задача 8.6:** Создайте программу с циклом for и else, которая ищет простое число"
   ]
  },
  {
   "cell_type": "code",
   "execution_count": 65,
   "metadata": {},
   "outputs": [
    {
     "name": "stdout",
     "output_type": "stream",
     "text": [
      "Нет\n"
     ]
    }
   ],
   "source": [
    "# Решение задачи 8.6\n",
    "n = int(input())\n",
    "k = 0\n",
    "for d in range(2, n):\n",
    "      if n % d == 0:\n",
    "         k+=1\n",
    "         break\n",
    "if k == 0:\n",
    "    print(\"Простое\")\n",
    "else:\n",
    "    print(\"Нет\")"
   ]
  },
  {
   "cell_type": "markdown",
   "metadata": {},
   "source": [
    "<a id=\"9\"></a>\n",
    "## 9. Comprehensions"
   ]
  },
  {
   "cell_type": "markdown",
   "metadata": {},
   "source": [
    "### 9.1 List comprehensions\n",
    "\n",
    "Компактный способ создания списков."
   ]
  },
  {
   "cell_type": "code",
   "execution_count": 66,
   "metadata": {},
   "outputs": [
    {
     "name": "stdout",
     "output_type": "stream",
     "text": [
      "Квадраты: [1, 4, 9, 16, 25]\n",
      "Четные: [0, 2, 4, 6, 8]\n",
      "Заглавные: ['HELLO', 'WORLD', 'PYTHON']\n",
      "Длины: [5, 5, 6]\n"
     ]
    }
   ],
   "source": [
    "# Простые list comprehensions\n",
    "squares = [x**2 for x in range(1, 6)]\n",
    "evens = [x for x in range(10) if x % 2 == 0]\n",
    "\n",
    "print(f\"Квадраты: {squares}\")\n",
    "print(f\"Четные: {evens}\")\n",
    "\n",
    "# List comprehensions с преобразованием\n",
    "words = [\"hello\", \"world\", \"python\"]\n",
    "upper_words = [word.upper() for word in words]\n",
    "lengths = [len(word) for word in words]\n",
    "\n",
    "print(f\"Заглавные: {upper_words}\")\n",
    "print(f\"Длины: {lengths}\")"
   ]
  },
  {
   "cell_type": "markdown",
   "metadata": {},
   "source": [
    "### 9.2 Dict comprehensions\n",
    "\n",
    "Компактный способ создания словарей."
   ]
  },
  {
   "cell_type": "code",
   "execution_count": 67,
   "metadata": {},
   "outputs": [
    {
     "name": "stdout",
     "output_type": "stream",
     "text": [
      "Квадраты: {1: 1, 2: 4, 3: 9, 4: 16, 5: 25}\n",
      "Инвертированный: {'one': 1, 'two': 2, 'three': 3}\n",
      "Квадраты четных: {0: 0, 2: 4, 4: 16, 6: 36, 8: 64}\n"
     ]
    }
   ],
   "source": [
    "# Простые dict comprehensions\n",
    "square_dict = {x: x**2 for x in range(1, 6)}\n",
    "number_names = {1: \"one\", 2: \"two\", 3: \"three\"}\n",
    "inverted = {v: k for k, v in number_names.items()}\n",
    "\n",
    "print(f\"Квадраты: {square_dict}\")\n",
    "print(f\"Инвертированный: {inverted}\")\n",
    "\n",
    "# Dict comprehensions с условием\n",
    "even_squares = {x: x**2 for x in range(10) if x % 2 == 0}\n",
    "print(f\"Квадраты четных: {even_squares}\")"
   ]
  },
  {
   "cell_type": "markdown",
   "metadata": {},
   "source": [
    "### 9.3 Set comprehensions\n",
    "\n",
    "Компактный способ создания множеств."
   ]
  },
  {
   "cell_type": "code",
   "execution_count": 68,
   "metadata": {},
   "outputs": [
    {
     "name": "stdout",
     "output_type": "stream",
     "text": [
      "Уникальные квадраты: {16, 1, 4, 9}\n",
      "Уникальные длины: {5, 6}\n",
      "Квадраты нечетных: {1, 9, 81, 49, 25}\n"
     ]
    }
   ],
   "source": [
    "# Set comprehensions\n",
    "unique_squares = {x**2 for x in [1, 2, 2, 3, 3, 3, 4]}\n",
    "word_lengths = {len(word) for word in words}\n",
    "\n",
    "print(f\"Уникальные квадраты: {unique_squares}\")\n",
    "print(f\"Уникальные длины: {word_lengths}\")\n",
    "\n",
    "# Set comprehensions с условием\n",
    "odd_squares = {x**2 for x in range(10) if x % 2 == 1}\n",
    "print(f\"Квадраты нечетных: {odd_squares}\")"
   ]
  },
  {
   "cell_type": "markdown",
   "metadata": {},
   "source": [
    "### 9.4 Сравнение производительности\n",
    "\n",
    "Comprehensions обычно работают быстрее, чем эквивалентные циклы for."
   ]
  },
  {
   "cell_type": "code",
   "execution_count": 69,
   "metadata": {},
   "outputs": [
    {
     "name": "stdout",
     "output_type": "stream",
     "text": [
      "Время выполнения list comprehension: 0.0634 секунд\n",
      "Время выполнения цикла for: 0.0691 секунд\n",
      "Comprehension быстрее в 1.09 раз\n"
     ]
    }
   ],
   "source": [
    "import timeit\n",
    "\n",
    "# Сравнение list comprehension и цикла for\n",
    "setup_code = \"\"\"\n",
    "n = 1000\n",
    "\"\"\"\n",
    "\n",
    "comprehension_code = \"\"\"\n",
    "result = [x**2 for x in range(n)]\n",
    "\"\"\"\n",
    "\n",
    "for_loop_code = \"\"\"\n",
    "result = []\n",
    "for x in range(n):\n",
    "    result.append(x**2)\n",
    "\"\"\"\n",
    "\n",
    "time_comprehension = timeit.timeit(comprehension_code, setup=setup_code, number=1000)\n",
    "time_for_loop = timeit.timeit(for_loop_code, setup=setup_code, number=1000)\n",
    "\n",
    "print(f\"Время выполнения list comprehension: {time_comprehension:.4f} секунд\")\n",
    "print(f\"Время выполнения цикла for: {time_for_loop:.4f} секунд\")\n",
    "print(f\"Comprehension быстрее в {time_for_loop/time_comprehension:.2f} раз\")"
   ]
  },
  {
   "cell_type": "markdown",
   "metadata": {},
   "source": [
    "### 9.5 Вложенные comprehensions\n",
    "\n",
    "Comprehensions могут быть вложенными для создания сложных структур."
   ]
  },
  {
   "cell_type": "code",
   "execution_count": 70,
   "metadata": {},
   "outputs": [
    {
     "name": "stdout",
     "output_type": "stream",
     "text": [
      "Исходная матрица: [[1, 2, 3], [4, 5, 6], [7, 8, 9]]\n",
      "Транспонированная: [[1, 4, 7], [2, 5, 8], [3, 6, 9]]\n",
      "\n",
      "Таблица умножения 5x5:\n",
      "[1, 2, 3, 4, 5]\n",
      "[2, 4, 6, 8, 10]\n",
      "[3, 6, 9, 12, 15]\n",
      "[4, 8, 12, 16, 20]\n",
      "[5, 10, 15, 20, 25]\n"
     ]
    }
   ],
   "source": [
    "# Вложенные list comprehensions\n",
    "matrix = [[1, 2, 3], [4, 5, 6], [7, 8, 9]]\n",
    "\n",
    "# Транспонирование матрицы\n",
    "transposed = [[row[i] for row in matrix] for i in range(len(matrix[0]))]\n",
    "print(f\"Исходная матрица: {matrix}\")\n",
    "print(f\"Транспонированная: {transposed}\")\n",
    "\n",
    "# Создание таблицы умножения\n",
    "multiplication_table = [[i * j for j in range(1, 6)] for i in range(1, 6)]\n",
    "print(f\"\\nТаблица умножения 5x5:\")\n",
    "for row in multiplication_table:\n",
    "    print(row)"
   ]
  },
  {
   "cell_type": "markdown",
   "metadata": {},
   "source": [
    "### Задачи для практики (comprehensions)"
   ]
  },
  {
   "cell_type": "markdown",
   "metadata": {},
   "source": [
    "**Задача 9.1:** Создайте список квадратов чисел от 1 до 10"
   ]
  },
  {
   "cell_type": "code",
   "execution_count": 71,
   "metadata": {},
   "outputs": [
    {
     "name": "stdout",
     "output_type": "stream",
     "text": [
      "[1, 4, 9, 16, 25, 36, 49, 64, 81, 100]\n"
     ]
    }
   ],
   "source": [
    "# Решение задачи 9.1\n",
    "squares = [x**2 for x in range(1, 11)]\n",
    "print(squares)"
   ]
  },
  {
   "cell_type": "markdown",
   "metadata": {},
   "source": [
    "**Задача 9.2:** Создайте словарь, где ключи - числа, а значения - их строковые представления"
   ]
  },
  {
   "cell_type": "code",
   "execution_count": 72,
   "metadata": {},
   "outputs": [
    {
     "name": "stdout",
     "output_type": "stream",
     "text": [
      "{1: 'one', 2: 'two', 3: 'three'}\n"
     ]
    }
   ],
   "source": [
    "# Решение задачи 9.2\n",
    "dict = {1: 'one', 2: 'two', 3: 'three'}\n",
    "print(dict)"
   ]
  },
  {
   "cell_type": "markdown",
   "metadata": {},
   "source": [
    "**Задача 9.3:** Создайте множество уникальных символов из строки"
   ]
  },
  {
   "cell_type": "code",
   "execution_count": 73,
   "metadata": {},
   "outputs": [
    {
     "name": "stdout",
     "output_type": "stream",
     "text": [
      "{'d', 'f', 's', 'a'}\n"
     ]
    }
   ],
   "source": [
    "# Решение задачи 9.3\n",
    "st = input()\n",
    "set_chars = set(st)\n",
    "print(set_chars)"
   ]
  },
  {
   "cell_type": "markdown",
   "metadata": {},
   "source": [
    "**Задача 9.4:** Создайте список только четных чисел из исходного списка"
   ]
  },
  {
   "cell_type": "code",
   "execution_count": 74,
   "metadata": {},
   "outputs": [
    {
     "name": "stdout",
     "output_type": "stream",
     "text": [
      "{2, 4, 6, 8, 10}\n"
     ]
    }
   ],
   "source": [
    "# Решение задачи 9.4\n",
    "ls = {1, 2, 3, 4, 5, 6, 7, 8, 9, 10}\n",
    "even_ls = {x for x in ls if x % 2 == 0}\n",
    "print(even_ls)"
   ]
  },
  {
   "cell_type": "markdown",
   "metadata": {},
   "source": [
    "**Задача 9.5:** Создайте словарь с длинами слов из списка"
   ]
  },
  {
   "cell_type": "code",
   "execution_count": 75,
   "metadata": {},
   "outputs": [
    {
     "name": "stdout",
     "output_type": "stream",
     "text": [
      "{'date': 4, 'banana': 6, 'apple': 5, 'cherry': 6}\n"
     ]
    }
   ],
   "source": [
    "# Решение задачи 9.5\n",
    "ls = {'apple', 'banana', 'cherry', 'date'}\n",
    "length_dict = {word: len(word) for word in ls}\n",
    "print(length_dict)"
   ]
  },
  {
   "cell_type": "markdown",
   "metadata": {},
   "source": [
    "**Задача 9.6:** Создайте вложенный comprehension для матрицы 3x3 с нулями на диагонали и единицами в остальных ячейках"
   ]
  },
  {
   "cell_type": "code",
   "execution_count": 82,
   "metadata": {},
   "outputs": [
    {
     "name": "stdout",
     "output_type": "stream",
     "text": [
      "[[0, 1, 1], [1, 0, 1], [1, 1, 0]]\n"
     ]
    }
   ],
   "source": [
    "# Решение задачи 9.6\n",
    "matrix = [[1, 2, 3], [4, 5, 6], [7, 8, 9]]\n",
    "new_matrix = [[0 if i == j else 1 for j in matrix] for i in matrix]\n",
    "print(new_matrix)"
   ]
  },
  {
   "cell_type": "markdown",
   "metadata": {},
   "source": [
    "## Итоговые практические задания"
   ]
  },
  {
   "cell_type": "markdown",
   "metadata": {},
   "source": [
    "### Задание 10: Анализ текста (только базовые типы)\n",
    "Напишите программу, которая:\n",
    "1. Принимает строку\n",
    "2. Подсчитывает количество символов\n",
    "3. Подсчитывает количество слов\n",
    "4. Выводит строку в верхнем регистре"
   ]
  },
  {
   "cell_type": "code",
   "execution_count": 87,
   "metadata": {},
   "outputs": [
    {
     "name": "stdout",
     "output_type": "stream",
     "text": [
      "Количество символов = 4\n",
      "Количество слов = 1\n",
      "В верхнем регистре:  ASDF\n"
     ]
    }
   ],
   "source": [
    "# Решение задания 10\n",
    "st = input()\n",
    "print(f\"Количество символов = {len(st)}\")\n",
    "print(f\"Количество слов = {st.count(' ') + 1}\")\n",
    "print(f\"В верхнем регистре:  {st.upper()}\")"
   ]
  },
  {
   "cell_type": "markdown",
   "metadata": {},
   "source": [
    "### Задание 11: Управление студентами (только базовые типы)\n",
    "Создайте программу для учета студентов:\n",
    "1. Используйте словарь для хранения студентов (ключ - имя, значение - возраст)\n",
    "2. Реализуйте добавление нового студента\n",
    "3. Реализуйте вывод всех студентов\n",
    "4. Реализуйте поиск студента по имени"
   ]
  },
  {
   "cell_type": "code",
   "execution_count": 93,
   "metadata": {},
   "outputs": [
    {
     "name": "stdout",
     "output_type": "stream",
     "text": [
      "{'Ignat': 18, 'Anna': 19, 'Sofia': 18}\n",
      "Ignat 18\n"
     ]
    }
   ],
   "source": [
    "# Решение задания 11\n",
    "dict = {\"Ignat\": 18, \"Anna\": 19}\n",
    "dict[\"Sofia\"] = 18\n",
    "print(dict)\n",
    "name = input()\n",
    "if name in dict:\n",
    "    print(f\"{name} {dict[name]}\")\n",
    "else:\n",
    "    print(\"No such person\")"
   ]
  },
  {
   "cell_type": "markdown",
   "metadata": {},
   "source": [
    "Результат выполнения всех заданий (notebook в формате .ipynb) сохранить в папке LAB05 репозитория SL_LABS. Сохранить изменения локально и отправить изменения в удаленный репозиторий"
   ]
  }
 ],
 "metadata": {
  "kernelspec": {
   "display_name": ".venv",
   "language": "python",
   "name": "python3"
  },
  "language_info": {
   "codemirror_mode": {
    "name": "ipython",
    "version": 3
   },
   "file_extension": ".py",
   "mimetype": "text/x-python",
   "name": "python",
   "nbconvert_exporter": "python",
   "pygments_lexer": "ipython3",
   "version": "3.14.0"
  }
 },
 "nbformat": 4,
 "nbformat_minor": 4
}
